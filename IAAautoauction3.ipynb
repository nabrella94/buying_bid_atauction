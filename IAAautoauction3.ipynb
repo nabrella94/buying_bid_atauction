{
 "cells": [
  {
   "cell_type": "code",
   "execution_count": 338,
   "metadata": {},
   "outputs": [],
   "source": [
    "import numpy as np\n",
    "import pandas as pd\n",
    "import matplotlib\n"
   ]
  },
  {
   "cell_type": "code",
   "execution_count": 339,
   "metadata": {},
   "outputs": [
    {
     "data": {
      "text/html": [
       "<div>\n",
       "<style scoped>\n",
       "    .dataframe tbody tr th:only-of-type {\n",
       "        vertical-align: middle;\n",
       "    }\n",
       "\n",
       "    .dataframe tbody tr th {\n",
       "        vertical-align: top;\n",
       "    }\n",
       "\n",
       "    .dataframe thead th {\n",
       "        text-align: right;\n",
       "    }\n",
       "</style>\n",
       "<table border=\"1\" class=\"dataframe\">\n",
       "  <thead>\n",
       "    <tr style=\"text-align: right;\">\n",
       "      <th></th>\n",
       "      <th>Stock#</th>\n",
       "      <th>Lane</th>\n",
       "      <th>Item#</th>\n",
       "      <th>Year</th>\n",
       "      <th>Make</th>\n",
       "      <th>Model</th>\n",
       "      <th>Odometer</th>\n",
       "      <th>VIN</th>\n",
       "      <th>Sale Document</th>\n",
       "      <th>Loss Type</th>\n",
       "      <th>...</th>\n",
       "      <th>Primary Damage</th>\n",
       "      <th>Secondary Damage</th>\n",
       "      <th>Run &amp; Drive</th>\n",
       "      <th>Starts</th>\n",
       "      <th>Odometer Status</th>\n",
       "      <th>Fuel Type</th>\n",
       "      <th>Cylinders</th>\n",
       "      <th>Transmission</th>\n",
       "      <th>Provider</th>\n",
       "      <th>Buy Now Price</th>\n",
       "    </tr>\n",
       "  </thead>\n",
       "  <tbody>\n",
       "    <tr>\n",
       "      <th>0</th>\n",
       "      <td>25239190</td>\n",
       "      <td>NaN</td>\n",
       "      <td>#TBD</td>\n",
       "      <td>2005</td>\n",
       "      <td>ACURA</td>\n",
       "      <td>MDX</td>\n",
       "      <td>142,876</td>\n",
       "      <td>2HNYD18945H533515</td>\n",
       "      <td>SALVAGE CERTIFICATE-CA</td>\n",
       "      <td>COLLISION</td>\n",
       "      <td>...</td>\n",
       "      <td>FRONT END</td>\n",
       "      <td>LEFT &amp; RIGHT</td>\n",
       "      <td>NO</td>\n",
       "      <td>NO</td>\n",
       "      <td>ACTUAL</td>\n",
       "      <td>Gasoline</td>\n",
       "      <td>6 Cyl</td>\n",
       "      <td>Automatic</td>\n",
       "      <td>Mercury Insurance</td>\n",
       "      <td>$675.00</td>\n",
       "    </tr>\n",
       "    <tr>\n",
       "      <th>1</th>\n",
       "      <td>25162867</td>\n",
       "      <td>NaN</td>\n",
       "      <td>#TBD</td>\n",
       "      <td>2011</td>\n",
       "      <td>AUDI</td>\n",
       "      <td>Q5</td>\n",
       "      <td>79,500</td>\n",
       "      <td>WA1WKAFP4BA058134</td>\n",
       "      <td>PREVIOUS SALVAGE-MI</td>\n",
       "      <td>WATER</td>\n",
       "      <td>...</td>\n",
       "      <td>FLOOD</td>\n",
       "      <td>FRONT &amp; REAR</td>\n",
       "      <td>NO</td>\n",
       "      <td>NO</td>\n",
       "      <td>ACTUAL</td>\n",
       "      <td>Gasoline</td>\n",
       "      <td>6 Cyl</td>\n",
       "      <td>Automatic</td>\n",
       "      <td>Progressive Casualty Insurance</td>\n",
       "      <td>$5,700.00</td>\n",
       "    </tr>\n",
       "    <tr>\n",
       "      <th>2</th>\n",
       "      <td>25397273</td>\n",
       "      <td>NaN</td>\n",
       "      <td>#TBD</td>\n",
       "      <td>2005</td>\n",
       "      <td>BENTLEY</td>\n",
       "      <td>CONTINENTAL</td>\n",
       "      <td>71,045</td>\n",
       "      <td>SCBCR63W25C028848</td>\n",
       "      <td>CLEAR-FL</td>\n",
       "      <td>OTHER</td>\n",
       "      <td>...</td>\n",
       "      <td>NONE</td>\n",
       "      <td>UNKNOWN</td>\n",
       "      <td>YES</td>\n",
       "      <td>YES</td>\n",
       "      <td>ACTUAL</td>\n",
       "      <td>Gasoline</td>\n",
       "      <td>12 Cyl</td>\n",
       "      <td>Automatic</td>\n",
       "      <td>NaN</td>\n",
       "      <td>$26,000.00</td>\n",
       "    </tr>\n",
       "    <tr>\n",
       "      <th>3</th>\n",
       "      <td>25112456</td>\n",
       "      <td>NaN</td>\n",
       "      <td>#TBD</td>\n",
       "      <td>2013</td>\n",
       "      <td>BMW</td>\n",
       "      <td>328</td>\n",
       "      <td>111,025</td>\n",
       "      <td>WBA3B3C58DF536341</td>\n",
       "      <td>CLEAR-MI</td>\n",
       "      <td>COLLISION</td>\n",
       "      <td>...</td>\n",
       "      <td>RIGHT SIDE</td>\n",
       "      <td>FRONT &amp; REAR</td>\n",
       "      <td>YES</td>\n",
       "      <td>YES</td>\n",
       "      <td>ACTUAL</td>\n",
       "      <td>Gasoline</td>\n",
       "      <td>4 Cyl</td>\n",
       "      <td>Automatic</td>\n",
       "      <td>Progressive Casualty Insurance</td>\n",
       "      <td>NaN</td>\n",
       "    </tr>\n",
       "    <tr>\n",
       "      <th>4</th>\n",
       "      <td>25102838</td>\n",
       "      <td>NaN</td>\n",
       "      <td>#TBD</td>\n",
       "      <td>2004</td>\n",
       "      <td>BMW</td>\n",
       "      <td>330</td>\n",
       "      <td>151,574</td>\n",
       "      <td>WBAEW53444PN35780</td>\n",
       "      <td>CLEAR-MI</td>\n",
       "      <td>COLLISION</td>\n",
       "      <td>...</td>\n",
       "      <td>FRONT &amp; REAR</td>\n",
       "      <td>LEFT SIDE</td>\n",
       "      <td>NO</td>\n",
       "      <td>NO</td>\n",
       "      <td>ACTUAL</td>\n",
       "      <td>Gasoline</td>\n",
       "      <td>6 Cyl</td>\n",
       "      <td>Automatic</td>\n",
       "      <td>Hanover Insurance</td>\n",
       "      <td>NaN</td>\n",
       "    </tr>\n",
       "  </tbody>\n",
       "</table>\n",
       "<p>5 rows × 23 columns</p>\n",
       "</div>"
      ],
      "text/plain": [
       "     Stock#  Lane Item#  Year     Make        Model Odometer  \\\n",
       "0  25239190   NaN  #TBD  2005    ACURA          MDX  142,876   \n",
       "1  25162867   NaN  #TBD  2011     AUDI           Q5   79,500   \n",
       "2  25397273   NaN  #TBD  2005  BENTLEY  CONTINENTAL   71,045   \n",
       "3  25112456   NaN  #TBD  2013      BMW          328  111,025   \n",
       "4  25102838   NaN  #TBD  2004      BMW          330  151,574   \n",
       "\n",
       "                 VIN           Sale Document  Loss Type      ...       \\\n",
       "0  2HNYD18945H533515  SALVAGE CERTIFICATE-CA  COLLISION      ...        \n",
       "1  WA1WKAFP4BA058134     PREVIOUS SALVAGE-MI      WATER      ...        \n",
       "2  SCBCR63W25C028848                CLEAR-FL      OTHER      ...        \n",
       "3  WBA3B3C58DF536341                CLEAR-MI  COLLISION      ...        \n",
       "4  WBAEW53444PN35780                CLEAR-MI  COLLISION      ...        \n",
       "\n",
       "   Primary Damage Secondary Damage Run & Drive Starts Odometer Status  \\\n",
       "0       FRONT END     LEFT & RIGHT          NO     NO          ACTUAL   \n",
       "1           FLOOD     FRONT & REAR          NO     NO          ACTUAL   \n",
       "2            NONE          UNKNOWN         YES    YES          ACTUAL   \n",
       "3      RIGHT SIDE     FRONT & REAR         YES    YES          ACTUAL   \n",
       "4    FRONT & REAR        LEFT SIDE          NO     NO          ACTUAL   \n",
       "\n",
       "  Fuel Type Cylinders Transmission                        Provider  \\\n",
       "0  Gasoline     6 Cyl    Automatic               Mercury Insurance   \n",
       "1  Gasoline     6 Cyl    Automatic  Progressive Casualty Insurance   \n",
       "2  Gasoline    12 Cyl    Automatic                             NaN   \n",
       "3  Gasoline     4 Cyl    Automatic  Progressive Casualty Insurance   \n",
       "4  Gasoline     6 Cyl    Automatic               Hanover Insurance   \n",
       "\n",
       "  Buy Now Price  \n",
       "0       $675.00  \n",
       "1     $5,700.00  \n",
       "2    $26,000.00  \n",
       "3           NaN  \n",
       "4           NaN  \n",
       "\n",
       "[5 rows x 23 columns]"
      ]
     },
     "execution_count": 339,
     "metadata": {},
     "output_type": "execute_result"
    }
   ],
   "source": [
    "#Reding the data\n",
    "automobile = pd.read_csv(r'Documents/BranchSalesListItems_07082019.csv')\n",
    "automobile.head()"
   ]
  },
  {
   "cell_type": "code",
   "execution_count": null,
   "metadata": {},
   "outputs": [],
   "source": []
  },
  {
   "cell_type": "code",
   "execution_count": 340,
   "metadata": {},
   "outputs": [
    {
     "data": {
      "text/html": [
       "<div>\n",
       "<style scoped>\n",
       "    .dataframe tbody tr th:only-of-type {\n",
       "        vertical-align: middle;\n",
       "    }\n",
       "\n",
       "    .dataframe tbody tr th {\n",
       "        vertical-align: top;\n",
       "    }\n",
       "\n",
       "    .dataframe thead th {\n",
       "        text-align: right;\n",
       "    }\n",
       "</style>\n",
       "<table border=\"1\" class=\"dataframe\">\n",
       "  <thead>\n",
       "    <tr style=\"text-align: right;\">\n",
       "      <th></th>\n",
       "      <th>Stock#</th>\n",
       "      <th>Year</th>\n",
       "      <th>Make</th>\n",
       "      <th>Model</th>\n",
       "      <th>Odometer</th>\n",
       "      <th>VIN</th>\n",
       "      <th>Sale Document</th>\n",
       "      <th>Loss Type</th>\n",
       "      <th>Primary Damage</th>\n",
       "      <th>Secondary Damage</th>\n",
       "      <th>Run &amp; Drive</th>\n",
       "      <th>Starts</th>\n",
       "      <th>Odometer Status</th>\n",
       "      <th>Transmission</th>\n",
       "      <th>Provider</th>\n",
       "    </tr>\n",
       "  </thead>\n",
       "  <tbody>\n",
       "    <tr>\n",
       "      <th>0</th>\n",
       "      <td>25239190</td>\n",
       "      <td>2005</td>\n",
       "      <td>ACURA</td>\n",
       "      <td>MDX</td>\n",
       "      <td>142,876</td>\n",
       "      <td>2HNYD18945H533515</td>\n",
       "      <td>SALVAGE CERTIFICATE-CA</td>\n",
       "      <td>COLLISION</td>\n",
       "      <td>FRONT END</td>\n",
       "      <td>LEFT &amp; RIGHT</td>\n",
       "      <td>NO</td>\n",
       "      <td>NO</td>\n",
       "      <td>ACTUAL</td>\n",
       "      <td>Automatic</td>\n",
       "      <td>Mercury Insurance</td>\n",
       "    </tr>\n",
       "    <tr>\n",
       "      <th>1</th>\n",
       "      <td>25162867</td>\n",
       "      <td>2011</td>\n",
       "      <td>AUDI</td>\n",
       "      <td>Q5</td>\n",
       "      <td>79,500</td>\n",
       "      <td>WA1WKAFP4BA058134</td>\n",
       "      <td>PREVIOUS SALVAGE-MI</td>\n",
       "      <td>WATER</td>\n",
       "      <td>FLOOD</td>\n",
       "      <td>FRONT &amp; REAR</td>\n",
       "      <td>NO</td>\n",
       "      <td>NO</td>\n",
       "      <td>ACTUAL</td>\n",
       "      <td>Automatic</td>\n",
       "      <td>Progressive Casualty Insurance</td>\n",
       "    </tr>\n",
       "    <tr>\n",
       "      <th>2</th>\n",
       "      <td>25397273</td>\n",
       "      <td>2005</td>\n",
       "      <td>BENTLEY</td>\n",
       "      <td>CONTINENTAL</td>\n",
       "      <td>71,045</td>\n",
       "      <td>SCBCR63W25C028848</td>\n",
       "      <td>CLEAR-FL</td>\n",
       "      <td>OTHER</td>\n",
       "      <td>NONE</td>\n",
       "      <td>UNKNOWN</td>\n",
       "      <td>YES</td>\n",
       "      <td>YES</td>\n",
       "      <td>ACTUAL</td>\n",
       "      <td>Automatic</td>\n",
       "      <td>NaN</td>\n",
       "    </tr>\n",
       "    <tr>\n",
       "      <th>3</th>\n",
       "      <td>25112456</td>\n",
       "      <td>2013</td>\n",
       "      <td>BMW</td>\n",
       "      <td>328</td>\n",
       "      <td>111,025</td>\n",
       "      <td>WBA3B3C58DF536341</td>\n",
       "      <td>CLEAR-MI</td>\n",
       "      <td>COLLISION</td>\n",
       "      <td>RIGHT SIDE</td>\n",
       "      <td>FRONT &amp; REAR</td>\n",
       "      <td>YES</td>\n",
       "      <td>YES</td>\n",
       "      <td>ACTUAL</td>\n",
       "      <td>Automatic</td>\n",
       "      <td>Progressive Casualty Insurance</td>\n",
       "    </tr>\n",
       "    <tr>\n",
       "      <th>4</th>\n",
       "      <td>25102838</td>\n",
       "      <td>2004</td>\n",
       "      <td>BMW</td>\n",
       "      <td>330</td>\n",
       "      <td>151,574</td>\n",
       "      <td>WBAEW53444PN35780</td>\n",
       "      <td>CLEAR-MI</td>\n",
       "      <td>COLLISION</td>\n",
       "      <td>FRONT &amp; REAR</td>\n",
       "      <td>LEFT SIDE</td>\n",
       "      <td>NO</td>\n",
       "      <td>NO</td>\n",
       "      <td>ACTUAL</td>\n",
       "      <td>Automatic</td>\n",
       "      <td>Hanover Insurance</td>\n",
       "    </tr>\n",
       "  </tbody>\n",
       "</table>\n",
       "</div>"
      ],
      "text/plain": [
       "     Stock#  Year     Make        Model Odometer                VIN  \\\n",
       "0  25239190  2005    ACURA          MDX  142,876  2HNYD18945H533515   \n",
       "1  25162867  2011     AUDI           Q5   79,500  WA1WKAFP4BA058134   \n",
       "2  25397273  2005  BENTLEY  CONTINENTAL   71,045  SCBCR63W25C028848   \n",
       "3  25112456  2013      BMW          328  111,025  WBA3B3C58DF536341   \n",
       "4  25102838  2004      BMW          330  151,574  WBAEW53444PN35780   \n",
       "\n",
       "            Sale Document  Loss Type Primary Damage Secondary Damage  \\\n",
       "0  SALVAGE CERTIFICATE-CA  COLLISION      FRONT END     LEFT & RIGHT   \n",
       "1     PREVIOUS SALVAGE-MI      WATER          FLOOD     FRONT & REAR   \n",
       "2                CLEAR-FL      OTHER           NONE          UNKNOWN   \n",
       "3                CLEAR-MI  COLLISION     RIGHT SIDE     FRONT & REAR   \n",
       "4                CLEAR-MI  COLLISION   FRONT & REAR        LEFT SIDE   \n",
       "\n",
       "  Run & Drive Starts Odometer Status Transmission  \\\n",
       "0          NO     NO          ACTUAL    Automatic   \n",
       "1          NO     NO          ACTUAL    Automatic   \n",
       "2         YES    YES          ACTUAL    Automatic   \n",
       "3         YES    YES          ACTUAL    Automatic   \n",
       "4          NO     NO          ACTUAL    Automatic   \n",
       "\n",
       "                         Provider  \n",
       "0               Mercury Insurance  \n",
       "1  Progressive Casualty Insurance  \n",
       "2                             NaN  \n",
       "3  Progressive Casualty Insurance  \n",
       "4               Hanover Insurance  "
      ]
     },
     "execution_count": 340,
     "metadata": {},
     "output_type": "execute_result"
    }
   ],
   "source": [
    "#removing unneccessary coloumns and rows with null value\n",
    "automobile.drop(['Item#','Cylinders','Fuel Type','Public','Lane', 'Vehicle Location Info','Auction Date','Buy Now Price'],axis=1 , inplace=True)\n",
    "\n",
    "automobile.head()"
   ]
  },
  {
   "cell_type": "code",
   "execution_count": 341,
   "metadata": {},
   "outputs": [
    {
     "data": {
      "text/plain": [
       "589"
      ]
     },
     "execution_count": 341,
     "metadata": {},
     "output_type": "execute_result"
    }
   ],
   "source": [
    "len(automobile)"
   ]
  },
  {
   "cell_type": "code",
   "execution_count": 342,
   "metadata": {},
   "outputs": [],
   "source": [
    "automobile.Odometer=automobile.Odometer.fillna(0)\n",
    "# automobile.isnull().sum()\n",
    "#automobile.Odometer.value_counts(ascending=True)"
   ]
  },
  {
   "cell_type": "code",
   "execution_count": 343,
   "metadata": {},
   "outputs": [],
   "source": [
    "automobile.insert(4, \"segment\",  True) "
   ]
  },
  {
   "cell_type": "code",
   "execution_count": 344,
   "metadata": {},
   "outputs": [],
   "source": [
    "#classified cars in 4 segments \n",
    "def Classifysegment(make):\n",
    " \n",
    "    Midlevel = ['Alfa Romeo', 'RAM','Chrysler', 'Infiniti', 'MINI', 'Volkswagen' , 'JEEP','CADILLAC','LINCOLN']\n",
    "    Economy = ['TOYOTA' , 'HONDA','MAZDA' , 'CHEVROLET' , 'MERCURY','BUICK','SUBARU','VOLVO' ,'GMC','DODGE','KIA','Saab', 'PONTIAC' , 'NISSAN' ,'JEEP']\n",
    "    Laxury=['BMW','LEXSUS', 'MERCEDES-BENZ','LEXUS','PORSCHE','JAGUAR']\n",
    "    SUPERLUXERY=['BENTLEY' , 'MASARATI']\n",
    "    if make in Midlevel:\n",
    "        return 'Midlevel'\n",
    "    elif make in Economy:\n",
    "        return 'Economy'\n",
    "automobile['segment'] = [Classifysegment(make) for make in automobile.Make ]#list comprehension\n",
    "#Rename Some column of dataset\n",
    "automobile=automobile.rename(columns = {'Run & Drive':'Run'})"
   ]
  },
  {
   "cell_type": "code",
   "execution_count": null,
   "metadata": {},
   "outputs": [],
   "source": []
  },
  {
   "cell_type": "code",
   "execution_count": null,
   "metadata": {},
   "outputs": [],
   "source": []
  },
  {
   "cell_type": "code",
   "execution_count": 345,
   "metadata": {},
   "outputs": [
    {
     "data": {
      "text/plain": [
       "Text(0.5, 0, 'Make')"
      ]
     },
     "execution_count": 345,
     "metadata": {},
     "output_type": "execute_result"
    },
    {
     "data": {
      "image/png": "[encoded data removed]",
      "text/plain": [
       "<Figure size 1080x360 with 1 Axes>"
      ]
     },
     "metadata": {
      "needs_background": "light"
     },
     "output_type": "display_data"
    }
   ],
   "source": [
    "#Vehicle make frequency BAr chart\n",
    "import matplotlib.pyplot as plt\n",
    "%matplotlib inline\n",
    "automobile.Make.value_counts().nlargest(10).plot(kind='bar', figsize=(15,5))\n",
    "plt.title(\"Number of vehicles by make\")\n",
    "plt.ylabel('Number of vehicles')\n",
    "plt.xlabel('Make')"
   ]
  },
  {
   "cell_type": "code",
   "execution_count": 346,
   "metadata": {},
   "outputs": [
    {
     "name": "stdout",
     "output_type": "stream",
     "text": [
      "       Stock#  Year       Make     Model  Odometer  $BidSalesPrices  \\\n",
      "92   25294725  2010  CHEVROLET       HHR     88069             1050   \n",
      "102  24790296  2009  CHEVROLET    IMPALA    132063             1600   \n",
      "210  24883315  2009      DODGE  RAM 1500    129447             7000   \n",
      "355  25273689  2011      HONDA    ACCORD     98029             1500   \n",
      "356  25175362  2008      HONDA    ACCORD    150787              975   \n",
      "363  24855636  2010      HONDA     CIVIC    117875             1700   \n",
      "364  25284658  2010      HONDA     CIVIC    118226             1250   \n",
      "372  25218839  2010      HONDA      CR-V    101559             3450   \n",
      "383  25253052  2010      HONDA   ODYSSEY    153902             1100   \n",
      "488  25134401  2010    MERCURY     MILAN    117462             1000   \n",
      "553  24288738  2010     TOYOTA   COROLLA    141280             1850   \n",
      "\n",
      "    PrimaryDamage SecondaryDamage  \n",
      "92      FRONT END    LEFT & RIGHT  \n",
      "102     LEFT SIDE            REAR  \n",
      "210  LEFT & RIGHT             NaN  \n",
      "355  FRONT & REAR       LEFT SIDE  \n",
      "356     FRONT END             NaN  \n",
      "363     FRONT END     RIGHT FRONT  \n",
      "364  FRONT & REAR             NaN  \n",
      "372     FRONT END    LEFT & RIGHT  \n",
      "383  FRONT & REAR    LEFT & RIGHT  \n",
      "488  LEFT & RIGHT            REAR  \n",
      "553  FRONT & REAR       LEFT SIDE  \n"
     ]
    }
   ],
   "source": [
    "#conver Milage DataType from string to Intiger\n",
    "automobile.Odometer=automobile.Odometer.astype(str).str.replace(\",\", \"\").astype(int)\n",
    "\n",
    "#filtering cars for sales in the auction to those with these condition . IN my experince these cars can be sell in tax season\n",
    "#with highest profit with less amount of time\n",
    "\n",
    "automobile=automobile.rename(columns = {'Sale Document':'SaleDoc','Primary Damage':'PrimaryDamage','Secondary Damage':'SecondaryDamage'})\n",
    "\n",
    "#filtering cars with the condition that with my experince I can sell buy and repire them less than $3000 and make $1000 profit\n",
    "df_filtered =automobile[(automobile.Odometer<= 160000 )&( automobile.Odometer > 80000 ) & (automobile.Starts == \"YES\") & (automobile.Run == \"YES\")\n",
    "                        & (automobile.segment == \"Economy\") & (automobile.Year<= 2011 ) & (automobile.Year>= 2005 )\n",
    "                       & (automobile.SaleDoc.str.contains('CLEAR')) & (pd.notnull(automobile['Provider']))  & (automobile.PrimaryDamage !=\"LEFT REAR\") ] \n",
    "#df_filtered.dropna()\n",
    "df_filtered.drop(['segment','Starts','Run','Odometer Status', 'Transmission','SaleDoc' ,'VIN','Loss Type' ,'Provider'],axis=1 , inplace=True)\n",
    "df_filtered.insert(5, \"$BidSalesPrices\",0)\n",
    "#adding the price of car that sld in auction at bid price \n",
    "#* notice that some the sale are in pending and on call to ask seller if they want to sell it at that price or not\n",
    "df_filtered.loc[:, \"$BidSalesPrices\"] = [ 1050, 1600,7000, 1500, 975, 1700, 1250, 3450,1100,1000,1850]\n",
    "#join the model and year of car models because modeles for each brands are unique\n",
    "print(df_filtered)\n"
   ]
  },
  {
   "cell_type": "code",
   "execution_count": 347,
   "metadata": {},
   "outputs": [
    {
     "name": "stdout",
     "output_type": "stream",
     "text": [
      "       Stock#  Year       Make     Model  Odometer     Modelyear  \\\n",
      "92   25294725  2010  CHEVROLET       HHR     88069       2010HHR   \n",
      "102  24790296  2009  CHEVROLET    IMPALA    132063    2009IMPALA   \n",
      "210  24883315  2009      DODGE  RAM 1500    129447  2009RAM 1500   \n",
      "355  25273689  2011      HONDA    ACCORD     98029    2011ACCORD   \n",
      "356  25175362  2008      HONDA    ACCORD    150787    2008ACCORD   \n",
      "363  24855636  2010      HONDA     CIVIC    117875     2010CIVIC   \n",
      "364  25284658  2010      HONDA     CIVIC    118226     2010CIVIC   \n",
      "372  25218839  2010      HONDA      CR-V    101559      2010CR-V   \n",
      "383  25253052  2010      HONDA   ODYSSEY    153902   2010ODYSSEY   \n",
      "488  25134401  2010    MERCURY     MILAN    117462     2010MILAN   \n",
      "553  24288738  2010     TOYOTA   COROLLA    141280   2010COROLLA   \n",
      "\n",
      "     $BidSalesPrices  PrimaryDamage  SecondaryDamage  \n",
      "92              1050            1.0              5.0  \n",
      "102             1600            3.0              2.0  \n",
      "210             7000            5.0              0.0  \n",
      "355             1500            4.0              3.0  \n",
      "356              975            1.0              0.0  \n",
      "363             1700            1.0              2.5  \n",
      "364             1250            4.0              0.0  \n",
      "372             3450            1.0              5.0  \n",
      "383             1100            4.0              5.0  \n",
      "488             1000            5.0              2.0  \n",
      "553             1850            4.0              3.0  \n"
     ]
    }
   ],
   "source": [
    "df_filtered.insert(5, \"Modelyear\",0)\n",
    "df_filtered.loc[:, \"Modelyear\"]=[''.join(i) for i in zip(df_filtered[\"Year\"].map(str),df_filtered[\"Model\"])]\n",
    "#creating dictionary fro dameges of the cars\n",
    "df_filtered.SecondaryDamage = df_filtered.SecondaryDamage.replace(np.nan, 'nothing')\n",
    "PrimaryDamage = {'FRONT END': 1.0,'LEFT SIDE': 3.0,'FRONT & REAR':4.0 ,'LEFT & RIGHT':5.0}\n",
    "SecondaryDamage = {'REAR': 2,'RIGHT FRONT': 2.5,'LEFT SIDE':3,'FRONT & REAR':4 ,'LEFT & RIGHT':5 ,'nothing':0}\n",
    "df_filtered.loc[:, \"PrimaryDamage\"] = [PrimaryDamage[item] for item in df_filtered.PrimaryDamage]\n",
    "df_filtered.loc[:, \"SecondaryDamage\"] = [SecondaryDamage[item] for item in df_filtered.SecondaryDamage]\n",
    "\n",
    "\n",
    "print(df_filtered)\n",
    "#automobile.Odometer = ''.join(ch for ch in automobile.Odometer if ch.isdigit())\n",
    "#automobile[\"Odometer\"] = automobile.Odometer.astype(float)"
   ]
  },
  {
   "cell_type": "code",
   "execution_count": 348,
   "metadata": {},
   "outputs": [
    {
     "data": {
      "text/plain": [
       "Text(0.5, 0, 'sales price of targeted car')"
      ]
     },
     "execution_count": 348,
     "metadata": {},
     "output_type": "execute_result"
    },
    {
     "data": {
      "image/png": "[encoded data removed]",
      "text/plain": [
       "<Figure size 432x288 with 1 Axes>"
      ]
     },
     "metadata": {
      "needs_background": "light"
     },
     "output_type": "display_data"
    }
   ],
   "source": [
    "# Getting the traget cars in aution  and plotting it\n",
    "\n",
    "f1 = df_filtered['Modelyear'].values\n",
    "f2 = df_filtered['$BidSalesPrices'].values\n",
    "X = np.array(list(zip(f1, f2)))\n",
    "plt.scatter(f1,f2,s=17,c='black')\n",
    "plt.ylabel(\"year Model of car sold in auction\")\n",
    "plt.xlabel(\"sales price of targeted car\")\n"
   ]
  },
  {
   "cell_type": "code",
   "execution_count": null,
   "metadata": {},
   "outputs": [],
   "source": []
  },
  {
   "cell_type": "code",
   "execution_count": null,
   "metadata": {},
   "outputs": [],
   "source": []
  },
  {
   "cell_type": "code",
   "execution_count": null,
   "metadata": {},
   "outputs": [],
   "source": []
  },
  {
   "cell_type": "code",
   "execution_count": null,
   "metadata": {},
   "outputs": [],
   "source": []
  },
  {
   "cell_type": "code",
   "execution_count": null,
   "metadata": {},
   "outputs": [],
   "source": []
  },
  {
   "cell_type": "code",
   "execution_count": null,
   "metadata": {},
   "outputs": [],
   "source": []
  },
  {
   "cell_type": "code",
   "execution_count": null,
   "metadata": {},
   "outputs": [],
   "source": []
  },
  {
   "cell_type": "code",
   "execution_count": null,
   "metadata": {},
   "outputs": [],
   "source": []
  },
  {
   "cell_type": "code",
   "execution_count": null,
   "metadata": {},
   "outputs": [],
   "source": []
  },
  {
   "cell_type": "code",
   "execution_count": null,
   "metadata": {},
   "outputs": [],
   "source": []
  },
  {
   "cell_type": "code",
   "execution_count": null,
   "metadata": {},
   "outputs": [],
   "source": []
  },
  {
   "cell_type": "code",
   "execution_count": null,
   "metadata": {},
   "outputs": [],
   "source": []
  },
  {
   "cell_type": "code",
   "execution_count": null,
   "metadata": {},
   "outputs": [],
   "source": []
  },
  {
   "cell_type": "code",
   "execution_count": null,
   "metadata": {},
   "outputs": [],
   "source": []
  },
  {
   "cell_type": "code",
   "execution_count": null,
   "metadata": {},
   "outputs": [],
   "source": []
  },
  {
   "cell_type": "code",
   "execution_count": null,
   "metadata": {},
   "outputs": [],
   "source": []
  },
  {
   "cell_type": "code",
   "execution_count": null,
   "metadata": {},
   "outputs": [],
   "source": []
  },
  {
   "cell_type": "code",
   "execution_count": null,
   "metadata": {},
   "outputs": [],
   "source": []
  },
  {
   "cell_type": "code",
   "execution_count": null,
   "metadata": {},
   "outputs": [],
   "source": []
  },
  {
   "cell_type": "code",
   "execution_count": null,
   "metadata": {},
   "outputs": [],
   "source": []
  },
  {
   "cell_type": "code",
   "execution_count": null,
   "metadata": {},
   "outputs": [],
   "source": []
  },
  {
   "cell_type": "code",
   "execution_count": null,
   "metadata": {},
   "outputs": [],
   "source": []
  },
  {
   "cell_type": "code",
   "execution_count": null,
   "metadata": {},
   "outputs": [],
   "source": []
  },
  {
   "cell_type": "code",
   "execution_count": null,
   "metadata": {},
   "outputs": [],
   "source": []
  },
  {
   "cell_type": "code",
   "execution_count": null,
   "metadata": {},
   "outputs": [],
   "source": []
  },
  {
   "cell_type": "code",
   "execution_count": null,
   "metadata": {},
   "outputs": [],
   "source": []
  },
  {
   "cell_type": "code",
   "execution_count": null,
   "metadata": {},
   "outputs": [],
   "source": []
  },
  {
   "cell_type": "code",
   "execution_count": null,
   "metadata": {},
   "outputs": [],
   "source": []
  },
  {
   "cell_type": "code",
   "execution_count": null,
   "metadata": {},
   "outputs": [],
   "source": []
  },
  {
   "cell_type": "code",
   "execution_count": null,
   "metadata": {},
   "outputs": [],
   "source": []
  },
  {
   "cell_type": "code",
   "execution_count": null,
   "metadata": {},
   "outputs": [],
   "source": []
  },
  {
   "cell_type": "code",
   "execution_count": null,
   "metadata": {},
   "outputs": [],
   "source": []
  },
  {
   "cell_type": "code",
   "execution_count": null,
   "metadata": {},
   "outputs": [],
   "source": []
  },
  {
   "cell_type": "code",
   "execution_count": null,
   "metadata": {},
   "outputs": [],
   "source": []
  },
  {
   "cell_type": "code",
   "execution_count": null,
   "metadata": {},
   "outputs": [],
   "source": []
  },
  {
   "cell_type": "code",
   "execution_count": null,
   "metadata": {},
   "outputs": [],
   "source": []
  },
  {
   "cell_type": "code",
   "execution_count": null,
   "metadata": {},
   "outputs": [],
   "source": []
  },
  {
   "cell_type": "code",
   "execution_count": null,
   "metadata": {},
   "outputs": [],
   "source": []
  },
  {
   "cell_type": "code",
   "execution_count": null,
   "metadata": {},
   "outputs": [],
   "source": []
  },
  {
   "cell_type": "code",
   "execution_count": null,
   "metadata": {},
   "outputs": [],
   "source": []
  },
  {
   "cell_type": "code",
   "execution_count": null,
   "metadata": {},
   "outputs": [],
   "source": []
  },
  {
   "cell_type": "code",
   "execution_count": null,
   "metadata": {},
   "outputs": [],
   "source": []
  },
  {
   "cell_type": "code",
   "execution_count": null,
   "metadata": {},
   "outputs": [],
   "source": []
  },
  {
   "cell_type": "code",
   "execution_count": null,
   "metadata": {},
   "outputs": [],
   "source": []
  },
  {
   "cell_type": "code",
   "execution_count": null,
   "metadata": {},
   "outputs": [],
   "source": []
  },
  {
   "cell_type": "code",
   "execution_count": null,
   "metadata": {},
   "outputs": [],
   "source": []
  },
  {
   "cell_type": "code",
   "execution_count": null,
   "metadata": {},
   "outputs": [],
   "source": []
  },
  {
   "cell_type": "code",
   "execution_count": null,
   "metadata": {},
   "outputs": [],
   "source": []
  },
  {
   "cell_type": "code",
   "execution_count": null,
   "metadata": {},
   "outputs": [],
   "source": []
  },
  {
   "cell_type": "code",
   "execution_count": null,
   "metadata": {},
   "outputs": [],
   "source": []
  },
  {
   "cell_type": "code",
   "execution_count": null,
   "metadata": {},
   "outputs": [],
   "source": []
  },
  {
   "cell_type": "code",
   "execution_count": null,
   "metadata": {},
   "outputs": [],
   "source": []
  },
  {
   "cell_type": "code",
   "execution_count": null,
   "metadata": {},
   "outputs": [],
   "source": []
  },
  {
   "cell_type": "code",
   "execution_count": null,
   "metadata": {},
   "outputs": [],
   "source": []
  },
  {
   "cell_type": "code",
   "execution_count": null,
   "metadata": {},
   "outputs": [],
   "source": []
  },
  {
   "cell_type": "code",
   "execution_count": null,
   "metadata": {},
   "outputs": [],
   "source": []
  },
  {
   "cell_type": "code",
   "execution_count": null,
   "metadata": {},
   "outputs": [],
   "source": []
  },
  {
   "cell_type": "code",
   "execution_count": null,
   "metadata": {},
   "outputs": [],
   "source": []
  },
  {
   "cell_type": "code",
   "execution_count": null,
   "metadata": {},
   "outputs": [],
   "source": []
  },
  {
   "cell_type": "code",
   "execution_count": null,
   "metadata": {},
   "outputs": [],
   "source": []
  },
  {
   "cell_type": "code",
   "execution_count": null,
   "metadata": {},
   "outputs": [],
   "source": []
  },
  {
   "cell_type": "code",
   "execution_count": null,
   "metadata": {},
   "outputs": [],
   "source": []
  },
  {
   "cell_type": "code",
   "execution_count": null,
   "metadata": {},
   "outputs": [],
   "source": []
  },
  {
   "cell_type": "code",
   "execution_count": null,
   "metadata": {},
   "outputs": [],
   "source": []
  },
  {
   "cell_type": "code",
   "execution_count": null,
   "metadata": {},
   "outputs": [],
   "source": []
  },
  {
   "cell_type": "code",
   "execution_count": null,
   "metadata": {},
   "outputs": [],
   "source": []
  },
  {
   "cell_type": "code",
   "execution_count": null,
   "metadata": {},
   "outputs": [],
   "source": []
  },
  {
   "cell_type": "code",
   "execution_count": null,
   "metadata": {},
   "outputs": [],
   "source": []
  },
  {
   "cell_type": "code",
   "execution_count": null,
   "metadata": {},
   "outputs": [],
   "source": []
  },
  {
   "cell_type": "code",
   "execution_count": null,
   "metadata": {},
   "outputs": [],
   "source": []
  },
  {
   "cell_type": "code",
   "execution_count": null,
   "metadata": {},
   "outputs": [],
   "source": []
  },
  {
   "cell_type": "code",
   "execution_count": null,
   "metadata": {},
   "outputs": [],
   "source": []
  },
  {
   "cell_type": "code",
   "execution_count": null,
   "metadata": {},
   "outputs": [],
   "source": []
  },
  {
   "cell_type": "code",
   "execution_count": null,
   "metadata": {},
   "outputs": [],
   "source": []
  },
  {
   "cell_type": "code",
   "execution_count": null,
   "metadata": {},
   "outputs": [],
   "source": []
  },
  {
   "cell_type": "code",
   "execution_count": null,
   "metadata": {},
   "outputs": [],
   "source": []
  },
  {
   "cell_type": "code",
   "execution_count": null,
   "metadata": {},
   "outputs": [],
   "source": []
  },
  {
   "cell_type": "code",
   "execution_count": null,
   "metadata": {},
   "outputs": [],
   "source": []
  },
  {
   "cell_type": "code",
   "execution_count": null,
   "metadata": {},
   "outputs": [],
   "source": []
  },
  {
   "cell_type": "code",
   "execution_count": null,
   "metadata": {},
   "outputs": [],
   "source": []
  },
  {
   "cell_type": "code",
   "execution_count": null,
   "metadata": {},
   "outputs": [],
   "source": []
  },
  {
   "cell_type": "code",
   "execution_count": null,
   "metadata": {},
   "outputs": [],
   "source": []
  },
  {
   "cell_type": "code",
   "execution_count": null,
   "metadata": {},
   "outputs": [],
   "source": []
  },
  {
   "cell_type": "code",
   "execution_count": null,
   "metadata": {},
   "outputs": [],
   "source": []
  },
  {
   "cell_type": "code",
   "execution_count": null,
   "metadata": {},
   "outputs": [],
   "source": []
  },
  {
   "cell_type": "code",
   "execution_count": null,
   "metadata": {},
   "outputs": [],
   "source": []
  },
  {
   "cell_type": "code",
   "execution_count": null,
   "metadata": {},
   "outputs": [],
   "source": []
  },
  {
   "cell_type": "code",
   "execution_count": null,
   "metadata": {},
   "outputs": [],
   "source": []
  },
  {
   "cell_type": "code",
   "execution_count": null,
   "metadata": {},
   "outputs": [],
   "source": []
  },
  {
   "cell_type": "code",
   "execution_count": null,
   "metadata": {},
   "outputs": [],
   "source": []
  },
  {
   "cell_type": "code",
   "execution_count": null,
   "metadata": {},
   "outputs": [],
   "source": []
  },
  {
   "cell_type": "code",
   "execution_count": null,
   "metadata": {},
   "outputs": [],
   "source": []
  },
  {
   "cell_type": "code",
   "execution_count": null,
   "metadata": {},
   "outputs": [],
   "source": []
  },
  {
   "cell_type": "code",
   "execution_count": null,
   "metadata": {},
   "outputs": [],
   "source": []
  },
  {
   "cell_type": "code",
   "execution_count": null,
   "metadata": {},
   "outputs": [],
   "source": []
  },
  {
   "cell_type": "code",
   "execution_count": null,
   "metadata": {},
   "outputs": [],
   "source": []
  },
  {
   "cell_type": "code",
   "execution_count": null,
   "metadata": {},
   "outputs": [],
   "source": []
  },
  {
   "cell_type": "code",
   "execution_count": null,
   "metadata": {},
   "outputs": [],
   "source": []
  },
  {
   "cell_type": "code",
   "execution_count": null,
   "metadata": {},
   "outputs": [],
   "source": []
  },
  {
   "cell_type": "code",
   "execution_count": null,
   "metadata": {},
   "outputs": [],
   "source": []
  },
  {
   "cell_type": "code",
   "execution_count": null,
   "metadata": {},
   "outputs": [],
   "source": []
  },
  {
   "cell_type": "code",
   "execution_count": null,
   "metadata": {},
   "outputs": [],
   "source": []
  },
  {
   "cell_type": "code",
   "execution_count": null,
   "metadata": {},
   "outputs": [],
   "source": []
  },
  {
   "cell_type": "code",
   "execution_count": null,
   "metadata": {},
   "outputs": [],
   "source": []
  },
  {
   "cell_type": "code",
   "execution_count": null,
   "metadata": {},
   "outputs": [],
   "source": []
  },
  {
   "cell_type": "code",
   "execution_count": null,
   "metadata": {},
   "outputs": [],
   "source": []
  },
  {
   "cell_type": "code",
   "execution_count": null,
   "metadata": {},
   "outputs": [],
   "source": []
  },
  {
   "cell_type": "code",
   "execution_count": null,
   "metadata": {},
   "outputs": [],
   "source": []
  },
  {
   "cell_type": "code",
   "execution_count": null,
   "metadata": {},
   "outputs": [],
   "source": []
  },
  {
   "cell_type": "code",
   "execution_count": null,
   "metadata": {},
   "outputs": [],
   "source": []
  },
  {
   "cell_type": "code",
   "execution_count": null,
   "metadata": {},
   "outputs": [],
   "source": []
  },
  {
   "cell_type": "code",
   "execution_count": null,
   "metadata": {},
   "outputs": [],
   "source": []
  },
  {
   "cell_type": "code",
   "execution_count": null,
   "metadata": {},
   "outputs": [],
   "source": []
  },
  {
   "cell_type": "code",
   "execution_count": null,
   "metadata": {},
   "outputs": [],
   "source": []
  },
  {
   "cell_type": "code",
   "execution_count": null,
   "metadata": {},
   "outputs": [],
   "source": []
  },
  {
   "cell_type": "code",
   "execution_count": null,
   "metadata": {},
   "outputs": [],
   "source": []
  },
  {
   "cell_type": "code",
   "execution_count": null,
   "metadata": {},
   "outputs": [],
   "source": []
  },
  {
   "cell_type": "code",
   "execution_count": null,
   "metadata": {},
   "outputs": [],
   "source": []
  },
  {
   "cell_type": "code",
   "execution_count": null,
   "metadata": {},
   "outputs": [],
   "source": []
  },
  {
   "cell_type": "code",
   "execution_count": null,
   "metadata": {},
   "outputs": [],
   "source": []
  },
  {
   "cell_type": "code",
   "execution_count": null,
   "metadata": {},
   "outputs": [],
   "source": []
  },
  {
   "cell_type": "code",
   "execution_count": null,
   "metadata": {},
   "outputs": [],
   "source": []
  },
  {
   "cell_type": "code",
   "execution_count": null,
   "metadata": {},
   "outputs": [],
   "source": []
  },
  {
   "cell_type": "code",
   "execution_count": null,
   "metadata": {},
   "outputs": [],
   "source": []
  },
  {
   "cell_type": "code",
   "execution_count": null,
   "metadata": {},
   "outputs": [],
   "source": []
  },
  {
   "cell_type": "code",
   "execution_count": null,
   "metadata": {},
   "outputs": [],
   "source": []
  },
  {
   "cell_type": "code",
   "execution_count": null,
   "metadata": {},
   "outputs": [],
   "source": []
  },
  {
   "cell_type": "code",
   "execution_count": null,
   "metadata": {},
   "outputs": [],
   "source": []
  },
  {
   "cell_type": "code",
   "execution_count": null,
   "metadata": {},
   "outputs": [],
   "source": []
  },
  {
   "cell_type": "code",
   "execution_count": null,
   "metadata": {},
   "outputs": [],
   "source": []
  },
  {
   "cell_type": "code",
   "execution_count": null,
   "metadata": {},
   "outputs": [],
   "source": []
  },
  {
   "cell_type": "code",
   "execution_count": null,
   "metadata": {},
   "outputs": [],
   "source": []
  },
  {
   "cell_type": "code",
   "execution_count": null,
   "metadata": {},
   "outputs": [],
   "source": []
  },
  {
   "cell_type": "code",
   "execution_count": null,
   "metadata": {},
   "outputs": [],
   "source": []
  },
  {
   "cell_type": "code",
   "execution_count": null,
   "metadata": {},
   "outputs": [],
   "source": []
  },
  {
   "cell_type": "code",
   "execution_count": null,
   "metadata": {},
   "outputs": [],
   "source": []
  },
  {
   "cell_type": "code",
   "execution_count": null,
   "metadata": {},
   "outputs": [],
   "source": []
  },
  {
   "cell_type": "code",
   "execution_count": null,
   "metadata": {},
   "outputs": [],
   "source": []
  },
  {
   "cell_type": "code",
   "execution_count": null,
   "metadata": {},
   "outputs": [],
   "source": []
  },
  {
   "cell_type": "code",
   "execution_count": null,
   "metadata": {},
   "outputs": [],
   "source": []
  },
  {
   "cell_type": "code",
   "execution_count": null,
   "metadata": {},
   "outputs": [],
   "source": []
  },
  {
   "cell_type": "code",
   "execution_count": null,
   "metadata": {},
   "outputs": [],
   "source": []
  },
  {
   "cell_type": "code",
   "execution_count": null,
   "metadata": {},
   "outputs": [],
   "source": []
  },
  {
   "cell_type": "code",
   "execution_count": null,
   "metadata": {},
   "outputs": [],
   "source": []
  },
  {
   "cell_type": "code",
   "execution_count": null,
   "metadata": {},
   "outputs": [],
   "source": []
  },
  {
   "cell_type": "code",
   "execution_count": null,
   "metadata": {},
   "outputs": [],
   "source": []
  },
  {
   "cell_type": "code",
   "execution_count": null,
   "metadata": {},
   "outputs": [],
   "source": []
  },
  {
   "cell_type": "code",
   "execution_count": null,
   "metadata": {},
   "outputs": [],
   "source": []
  },
  {
   "cell_type": "code",
   "execution_count": null,
   "metadata": {},
   "outputs": [],
   "source": []
  },
  {
   "cell_type": "code",
   "execution_count": null,
   "metadata": {},
   "outputs": [],
   "source": []
  },
  {
   "cell_type": "code",
   "execution_count": null,
   "metadata": {},
   "outputs": [],
   "source": []
  },
  {
   "cell_type": "code",
   "execution_count": null,
   "metadata": {},
   "outputs": [],
   "source": []
  },
  {
   "cell_type": "code",
   "execution_count": null,
   "metadata": {},
   "outputs": [],
   "source": []
  },
  {
   "cell_type": "code",
   "execution_count": null,
   "metadata": {},
   "outputs": [],
   "source": []
  },
  {
   "cell_type": "code",
   "execution_count": null,
   "metadata": {},
   "outputs": [],
   "source": []
  },
  {
   "cell_type": "code",
   "execution_count": null,
   "metadata": {},
   "outputs": [],
   "source": []
  },
  {
   "cell_type": "code",
   "execution_count": null,
   "metadata": {},
   "outputs": [],
   "source": []
  },
  {
   "cell_type": "code",
   "execution_count": null,
   "metadata": {},
   "outputs": [],
   "source": []
  },
  {
   "cell_type": "code",
   "execution_count": null,
   "metadata": {},
   "outputs": [],
   "source": []
  },
  {
   "cell_type": "code",
   "execution_count": null,
   "metadata": {},
   "outputs": [],
   "source": []
  },
  {
   "cell_type": "code",
   "execution_count": null,
   "metadata": {},
   "outputs": [],
   "source": []
  },
  {
   "cell_type": "code",
   "execution_count": null,
   "metadata": {},
   "outputs": [],
   "source": []
  },
  {
   "cell_type": "code",
   "execution_count": null,
   "metadata": {},
   "outputs": [],
   "source": []
  },
  {
   "cell_type": "code",
   "execution_count": null,
   "metadata": {},
   "outputs": [],
   "source": []
  },
  {
   "cell_type": "code",
   "execution_count": null,
   "metadata": {},
   "outputs": [],
   "source": []
  },
  {
   "cell_type": "code",
   "execution_count": null,
   "metadata": {},
   "outputs": [],
   "source": []
  },
  {
   "cell_type": "code",
   "execution_count": null,
   "metadata": {},
   "outputs": [],
   "source": []
  },
  {
   "cell_type": "code",
   "execution_count": null,
   "metadata": {},
   "outputs": [],
   "source": []
  },
  {
   "cell_type": "code",
   "execution_count": null,
   "metadata": {},
   "outputs": [],
   "source": []
  },
  {
   "cell_type": "code",
   "execution_count": null,
   "metadata": {},
   "outputs": [],
   "source": []
  },
  {
   "cell_type": "code",
   "execution_count": null,
   "metadata": {},
   "outputs": [],
   "source": []
  },
  {
   "cell_type": "code",
   "execution_count": null,
   "metadata": {},
   "outputs": [],
   "source": []
  },
  {
   "cell_type": "code",
   "execution_count": null,
   "metadata": {},
   "outputs": [],
   "source": []
  },
  {
   "cell_type": "code",
   "execution_count": null,
   "metadata": {},
   "outputs": [],
   "source": []
  },
  {
   "cell_type": "code",
   "execution_count": null,
   "metadata": {},
   "outputs": [],
   "source": []
  },
  {
   "cell_type": "code",
   "execution_count": null,
   "metadata": {},
   "outputs": [],
   "source": []
  },
  {
   "cell_type": "code",
   "execution_count": null,
   "metadata": {},
   "outputs": [],
   "source": []
  },
  {
   "cell_type": "code",
   "execution_count": null,
   "metadata": {},
   "outputs": [],
   "source": []
  },
  {
   "cell_type": "code",
   "execution_count": null,
   "metadata": {},
   "outputs": [],
   "source": []
  },
  {
   "cell_type": "code",
   "execution_count": null,
   "metadata": {},
   "outputs": [],
   "source": []
  },
  {
   "cell_type": "code",
   "execution_count": null,
   "metadata": {},
   "outputs": [],
   "source": []
  },
  {
   "cell_type": "code",
   "execution_count": null,
   "metadata": {},
   "outputs": [],
   "source": []
  },
  {
   "cell_type": "code",
   "execution_count": null,
   "metadata": {},
   "outputs": [],
   "source": []
  },
  {
   "cell_type": "code",
   "execution_count": null,
   "metadata": {},
   "outputs": [],
   "source": []
  },
  {
   "cell_type": "code",
   "execution_count": null,
   "metadata": {},
   "outputs": [],
   "source": []
  },
  {
   "cell_type": "code",
   "execution_count": null,
   "metadata": {},
   "outputs": [],
   "source": []
  },
  {
   "cell_type": "code",
   "execution_count": null,
   "metadata": {},
   "outputs": [],
   "source": []
  },
  {
   "cell_type": "code",
   "execution_count": null,
   "metadata": {},
   "outputs": [],
   "source": []
  },
  {
   "cell_type": "code",
   "execution_count": null,
   "metadata": {},
   "outputs": [],
   "source": []
  },
  {
   "cell_type": "code",
   "execution_count": null,
   "metadata": {},
   "outputs": [],
   "source": []
  },
  {
   "cell_type": "code",
   "execution_count": null,
   "metadata": {},
   "outputs": [],
   "source": []
  },
  {
   "cell_type": "code",
   "execution_count": null,
   "metadata": {},
   "outputs": [],
   "source": []
  },
  {
   "cell_type": "code",
   "execution_count": null,
   "metadata": {},
   "outputs": [],
   "source": []
  },
  {
   "cell_type": "code",
   "execution_count": null,
   "metadata": {},
   "outputs": [],
   "source": []
  },
  {
   "cell_type": "code",
   "execution_count": null,
   "metadata": {},
   "outputs": [],
   "source": []
  },
  {
   "cell_type": "code",
   "execution_count": null,
   "metadata": {},
   "outputs": [],
   "source": []
  },
  {
   "cell_type": "code",
   "execution_count": null,
   "metadata": {},
   "outputs": [],
   "source": []
  },
  {
   "cell_type": "code",
   "execution_count": null,
   "metadata": {},
   "outputs": [],
   "source": []
  },
  {
   "cell_type": "code",
   "execution_count": null,
   "metadata": {},
   "outputs": [],
   "source": []
  },
  {
   "cell_type": "code",
   "execution_count": null,
   "metadata": {},
   "outputs": [],
   "source": []
  },
  {
   "cell_type": "code",
   "execution_count": null,
   "metadata": {},
   "outputs": [],
   "source": []
  },
  {
   "cell_type": "code",
   "execution_count": null,
   "metadata": {},
   "outputs": [],
   "source": []
  },
  {
   "cell_type": "code",
   "execution_count": null,
   "metadata": {},
   "outputs": [],
   "source": []
  },
  {
   "cell_type": "code",
   "execution_count": null,
   "metadata": {},
   "outputs": [],
   "source": []
  },
  {
   "cell_type": "code",
   "execution_count": null,
   "metadata": {},
   "outputs": [],
   "source": []
  },
  {
   "cell_type": "code",
   "execution_count": null,
   "metadata": {},
   "outputs": [],
   "source": []
  },
  {
   "cell_type": "code",
   "execution_count": null,
   "metadata": {},
   "outputs": [],
   "source": []
  },
  {
   "cell_type": "code",
   "execution_count": null,
   "metadata": {},
   "outputs": [],
   "source": []
  },
  {
   "cell_type": "code",
   "execution_count": null,
   "metadata": {},
   "outputs": [],
   "source": []
  },
  {
   "cell_type": "code",
   "execution_count": null,
   "metadata": {},
   "outputs": [],
   "source": []
  },
  {
   "cell_type": "code",
   "execution_count": null,
   "metadata": {},
   "outputs": [],
   "source": []
  },
  {
   "cell_type": "code",
   "execution_count": null,
   "metadata": {},
   "outputs": [],
   "source": []
  },
  {
   "cell_type": "code",
   "execution_count": null,
   "metadata": {},
   "outputs": [],
   "source": []
  },
  {
   "cell_type": "code",
   "execution_count": null,
   "metadata": {},
   "outputs": [],
   "source": []
  },
  {
   "cell_type": "code",
   "execution_count": null,
   "metadata": {},
   "outputs": [],
   "source": []
  },
  {
   "cell_type": "code",
   "execution_count": null,
   "metadata": {},
   "outputs": [],
   "source": []
  },
  {
   "cell_type": "code",
   "execution_count": null,
   "metadata": {},
   "outputs": [],
   "source": []
  },
  {
   "cell_type": "code",
   "execution_count": null,
   "metadata": {},
   "outputs": [],
   "source": []
  },
  {
   "cell_type": "code",
   "execution_count": null,
   "metadata": {},
   "outputs": [],
   "source": []
  },
  {
   "cell_type": "code",
   "execution_count": null,
   "metadata": {},
   "outputs": [],
   "source": []
  },
  {
   "cell_type": "code",
   "execution_count": null,
   "metadata": {},
   "outputs": [],
   "source": []
  },
  {
   "cell_type": "code",
   "execution_count": null,
   "metadata": {},
   "outputs": [],
   "source": []
  },
  {
   "cell_type": "code",
   "execution_count": null,
   "metadata": {},
   "outputs": [],
   "source": []
  },
  {
   "cell_type": "code",
   "execution_count": null,
   "metadata": {},
   "outputs": [],
   "source": []
  },
  {
   "cell_type": "code",
   "execution_count": null,
   "metadata": {},
   "outputs": [],
   "source": []
  },
  {
   "cell_type": "code",
   "execution_count": null,
   "metadata": {},
   "outputs": [],
   "source": []
  },
  {
   "cell_type": "code",
   "execution_count": null,
   "metadata": {},
   "outputs": [],
   "source": []
  },
  {
   "cell_type": "code",
   "execution_count": null,
   "metadata": {},
   "outputs": [],
   "source": []
  },
  {
   "cell_type": "code",
   "execution_count": null,
   "metadata": {},
   "outputs": [],
   "source": []
  },
  {
   "cell_type": "code",
   "execution_count": null,
   "metadata": {},
   "outputs": [],
   "source": []
  },
  {
   "cell_type": "code",
   "execution_count": null,
   "metadata": {},
   "outputs": [],
   "source": []
  },
  {
   "cell_type": "code",
   "execution_count": null,
   "metadata": {},
   "outputs": [],
   "source": []
  },
  {
   "cell_type": "code",
   "execution_count": null,
   "metadata": {},
   "outputs": [],
   "source": []
  },
  {
   "cell_type": "code",
   "execution_count": null,
   "metadata": {},
   "outputs": [],
   "source": []
  },
  {
   "cell_type": "code",
   "execution_count": null,
   "metadata": {},
   "outputs": [],
   "source": []
  },
  {
   "cell_type": "code",
   "execution_count": null,
   "metadata": {},
   "outputs": [],
   "source": []
  },
  {
   "cell_type": "code",
   "execution_count": null,
   "metadata": {},
   "outputs": [],
   "source": []
  },
  {
   "cell_type": "code",
   "execution_count": null,
   "metadata": {},
   "outputs": [],
   "source": []
  },
  {
   "cell_type": "code",
   "execution_count": null,
   "metadata": {},
   "outputs": [],
   "source": []
  },
  {
   "cell_type": "code",
   "execution_count": null,
   "metadata": {},
   "outputs": [],
   "source": []
  },
  {
   "cell_type": "code",
   "execution_count": null,
   "metadata": {},
   "outputs": [],
   "source": []
  },
  {
   "cell_type": "code",
   "execution_count": null,
   "metadata": {},
   "outputs": [],
   "source": []
  },
  {
   "cell_type": "code",
   "execution_count": null,
   "metadata": {},
   "outputs": [],
   "source": []
  },
  {
   "cell_type": "code",
   "execution_count": null,
   "metadata": {},
   "outputs": [],
   "source": []
  },
  {
   "cell_type": "code",
   "execution_count": null,
   "metadata": {},
   "outputs": [],
   "source": []
  },
  {
   "cell_type": "code",
   "execution_count": null,
   "metadata": {},
   "outputs": [],
   "source": []
  },
  {
   "cell_type": "code",
   "execution_count": null,
   "metadata": {},
   "outputs": [],
   "source": []
  },
  {
   "cell_type": "code",
   "execution_count": null,
   "metadata": {},
   "outputs": [],
   "source": []
  },
  {
   "cell_type": "code",
   "execution_count": null,
   "metadata": {},
   "outputs": [],
   "source": []
  },
  {
   "cell_type": "code",
   "execution_count": null,
   "metadata": {},
   "outputs": [],
   "source": []
  },
  {
   "cell_type": "code",
   "execution_count": null,
   "metadata": {},
   "outputs": [],
   "source": []
  },
  {
   "cell_type": "code",
   "execution_count": null,
   "metadata": {},
   "outputs": [],
   "source": []
  },
  {
   "cell_type": "code",
   "execution_count": null,
   "metadata": {},
   "outputs": [],
   "source": []
  },
  {
   "cell_type": "code",
   "execution_count": null,
   "metadata": {},
   "outputs": [],
   "source": []
  },
  {
   "cell_type": "code",
   "execution_count": null,
   "metadata": {},
   "outputs": [],
   "source": []
  },
  {
   "cell_type": "code",
   "execution_count": null,
   "metadata": {},
   "outputs": [],
   "source": []
  },
  {
   "cell_type": "code",
   "execution_count": null,
   "metadata": {},
   "outputs": [],
   "source": []
  },
  {
   "cell_type": "code",
   "execution_count": null,
   "metadata": {},
   "outputs": [],
   "source": []
  },
  {
   "cell_type": "code",
   "execution_count": null,
   "metadata": {},
   "outputs": [],
   "source": []
  },
  {
   "cell_type": "code",
   "execution_count": null,
   "metadata": {},
   "outputs": [],
   "source": []
  },
  {
   "cell_type": "code",
   "execution_count": null,
   "metadata": {},
   "outputs": [],
   "source": []
  },
  {
   "cell_type": "code",
   "execution_count": null,
   "metadata": {},
   "outputs": [],
   "source": []
  },
  {
   "cell_type": "code",
   "execution_count": null,
   "metadata": {},
   "outputs": [],
   "source": []
  },
  {
   "cell_type": "code",
   "execution_count": null,
   "metadata": {},
   "outputs": [],
   "source": []
  },
  {
   "cell_type": "code",
   "execution_count": null,
   "metadata": {},
   "outputs": [],
   "source": []
  },
  {
   "cell_type": "code",
   "execution_count": null,
   "metadata": {},
   "outputs": [],
   "source": []
  },
  {
   "cell_type": "code",
   "execution_count": null,
   "metadata": {},
   "outputs": [],
   "source": []
  },
  {
   "cell_type": "code",
   "execution_count": null,
   "metadata": {},
   "outputs": [],
   "source": []
  },
  {
   "cell_type": "code",
   "execution_count": null,
   "metadata": {},
   "outputs": [],
   "source": []
  },
  {
   "cell_type": "code",
   "execution_count": null,
   "metadata": {},
   "outputs": [],
   "source": []
  },
  {
   "cell_type": "code",
   "execution_count": null,
   "metadata": {},
   "outputs": [],
   "source": []
  },
  {
   "cell_type": "code",
   "execution_count": null,
   "metadata": {},
   "outputs": [],
   "source": []
  },
  {
   "cell_type": "code",
   "execution_count": null,
   "metadata": {},
   "outputs": [],
   "source": []
  },
  {
   "cell_type": "code",
   "execution_count": null,
   "metadata": {},
   "outputs": [],
   "source": []
  },
  {
   "cell_type": "code",
   "execution_count": null,
   "metadata": {},
   "outputs": [],
   "source": []
  },
  {
   "cell_type": "code",
   "execution_count": null,
   "metadata": {},
   "outputs": [],
   "source": []
  },
  {
   "cell_type": "code",
   "execution_count": null,
   "metadata": {},
   "outputs": [],
   "source": []
  },
  {
   "cell_type": "code",
   "execution_count": null,
   "metadata": {},
   "outputs": [],
   "source": []
  },
  {
   "cell_type": "code",
   "execution_count": null,
   "metadata": {},
   "outputs": [],
   "source": []
  },
  {
   "cell_type": "code",
   "execution_count": null,
   "metadata": {},
   "outputs": [],
   "source": []
  },
  {
   "cell_type": "code",
   "execution_count": null,
   "metadata": {},
   "outputs": [],
   "source": []
  },
  {
   "cell_type": "code",
   "execution_count": null,
   "metadata": {},
   "outputs": [],
   "source": []
  },
  {
   "cell_type": "code",
   "execution_count": null,
   "metadata": {},
   "outputs": [],
   "source": []
  },
  {
   "cell_type": "code",
   "execution_count": null,
   "metadata": {},
   "outputs": [],
   "source": []
  },
  {
   "cell_type": "code",
   "execution_count": null,
   "metadata": {},
   "outputs": [],
   "source": [
    "    "
   ]
  }
 ],
 "metadata": {
  "kernelspec": {
   "display_name": "Python 3",
   "language": "python",
   "name": "python3"
  },
  "language_info": {
   "codemirror_mode": {
    "name": "ipython",
    "version": 3
   },
   "file_extension": ".py",
   "mimetype": "text/x-python",
   "name": "python",
   "nbconvert_exporter": "python",
   "pygments_lexer": "ipython3",
   "version": "3.7.1"
  }
 },
 "nbformat": 4,
 "nbformat_minor": 2
}
