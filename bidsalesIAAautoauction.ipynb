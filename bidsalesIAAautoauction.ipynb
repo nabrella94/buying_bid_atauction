{
 "cells": [
  {
   "cell_type": "code",
   "execution_count": 44,
   "metadata": {},
   "outputs": [],
   "source": [
    "import numpy as np\n",
    "import pandas as pd\n",
    "import matplotlib\n"
   ]
  },
  {
   "cell_type": "code",
   "execution_count": 45,
   "metadata": {},
   "outputs": [
    {
     "data": {
      "text/html": [
       "<div>\n",
       "<style scoped>\n",
       "    .dataframe tbody tr th:only-of-type {\n",
       "        vertical-align: middle;\n",
       "    }\n",
       "\n",
       "    .dataframe tbody tr th {\n",
       "        vertical-align: top;\n",
       "    }\n",
       "\n",
       "    .dataframe thead th {\n",
       "        text-align: right;\n",
       "    }\n",
       "</style>\n",
       "<table border=\"1\" class=\"dataframe\">\n",
       "  <thead>\n",
       "    <tr style=\"text-align: right;\">\n",
       "      <th></th>\n",
       "      <th>Stock#</th>\n",
       "      <th>Lane</th>\n",
       "      <th>Item#</th>\n",
       "      <th>Year</th>\n",
       "      <th>Make</th>\n",
       "      <th>Model</th>\n",
       "      <th>Odometer</th>\n",
       "      <th>VIN</th>\n",
       "      <th>Sale Document</th>\n",
       "      <th>Loss Type</th>\n",
       "      <th>...</th>\n",
       "      <th>Primary Damage</th>\n",
       "      <th>Secondary Damage</th>\n",
       "      <th>Run &amp; Drive</th>\n",
       "      <th>Starts</th>\n",
       "      <th>Odometer Status</th>\n",
       "      <th>Fuel Type</th>\n",
       "      <th>Cylinders</th>\n",
       "      <th>Transmission</th>\n",
       "      <th>Provider</th>\n",
       "      <th>Buy Now Price</th>\n",
       "    </tr>\n",
       "  </thead>\n",
       "  <tbody>\n",
       "    <tr>\n",
       "      <th>0</th>\n",
       "      <td>25239190</td>\n",
       "      <td>NaN</td>\n",
       "      <td>#TBD</td>\n",
       "      <td>2005</td>\n",
       "      <td>ACURA</td>\n",
       "      <td>MDX</td>\n",
       "      <td>142,876</td>\n",
       "      <td>2HNYD18945H533515</td>\n",
       "      <td>SALVAGE CERTIFICATE-CA</td>\n",
       "      <td>COLLISION</td>\n",
       "      <td>...</td>\n",
       "      <td>FRONT END</td>\n",
       "      <td>LEFT &amp; RIGHT</td>\n",
       "      <td>NO</td>\n",
       "      <td>NO</td>\n",
       "      <td>ACTUAL</td>\n",
       "      <td>Gasoline</td>\n",
       "      <td>6 Cyl</td>\n",
       "      <td>Automatic</td>\n",
       "      <td>Mercury Insurance</td>\n",
       "      <td>$675.00</td>\n",
       "    </tr>\n",
       "    <tr>\n",
       "      <th>1</th>\n",
       "      <td>25162867</td>\n",
       "      <td>NaN</td>\n",
       "      <td>#TBD</td>\n",
       "      <td>2011</td>\n",
       "      <td>AUDI</td>\n",
       "      <td>Q5</td>\n",
       "      <td>79,500</td>\n",
       "      <td>WA1WKAFP4BA058134</td>\n",
       "      <td>PREVIOUS SALVAGE-MI</td>\n",
       "      <td>WATER</td>\n",
       "      <td>...</td>\n",
       "      <td>FLOOD</td>\n",
       "      <td>FRONT &amp; REAR</td>\n",
       "      <td>NO</td>\n",
       "      <td>NO</td>\n",
       "      <td>ACTUAL</td>\n",
       "      <td>Gasoline</td>\n",
       "      <td>6 Cyl</td>\n",
       "      <td>Automatic</td>\n",
       "      <td>Progressive Casualty Insurance</td>\n",
       "      <td>$5,700.00</td>\n",
       "    </tr>\n",
       "    <tr>\n",
       "      <th>2</th>\n",
       "      <td>25397273</td>\n",
       "      <td>NaN</td>\n",
       "      <td>#TBD</td>\n",
       "      <td>2005</td>\n",
       "      <td>BENTLEY</td>\n",
       "      <td>CONTINENTAL</td>\n",
       "      <td>71,045</td>\n",
       "      <td>SCBCR63W25C028848</td>\n",
       "      <td>CLEAR-FL</td>\n",
       "      <td>OTHER</td>\n",
       "      <td>...</td>\n",
       "      <td>NONE</td>\n",
       "      <td>UNKNOWN</td>\n",
       "      <td>YES</td>\n",
       "      <td>YES</td>\n",
       "      <td>ACTUAL</td>\n",
       "      <td>Gasoline</td>\n",
       "      <td>12 Cyl</td>\n",
       "      <td>Automatic</td>\n",
       "      <td>NaN</td>\n",
       "      <td>$26,000.00</td>\n",
       "    </tr>\n",
       "    <tr>\n",
       "      <th>3</th>\n",
       "      <td>25112456</td>\n",
       "      <td>NaN</td>\n",
       "      <td>#TBD</td>\n",
       "      <td>2013</td>\n",
       "      <td>BMW</td>\n",
       "      <td>328</td>\n",
       "      <td>111,025</td>\n",
       "      <td>WBA3B3C58DF536341</td>\n",
       "      <td>CLEAR-MI</td>\n",
       "      <td>COLLISION</td>\n",
       "      <td>...</td>\n",
       "      <td>RIGHT SIDE</td>\n",
       "      <td>FRONT &amp; REAR</td>\n",
       "      <td>YES</td>\n",
       "      <td>YES</td>\n",
       "      <td>ACTUAL</td>\n",
       "      <td>Gasoline</td>\n",
       "      <td>4 Cyl</td>\n",
       "      <td>Automatic</td>\n",
       "      <td>Progressive Casualty Insurance</td>\n",
       "      <td>NaN</td>\n",
       "    </tr>\n",
       "    <tr>\n",
       "      <th>4</th>\n",
       "      <td>25102838</td>\n",
       "      <td>NaN</td>\n",
       "      <td>#TBD</td>\n",
       "      <td>2004</td>\n",
       "      <td>BMW</td>\n",
       "      <td>330</td>\n",
       "      <td>151,574</td>\n",
       "      <td>WBAEW53444PN35780</td>\n",
       "      <td>CLEAR-MI</td>\n",
       "      <td>COLLISION</td>\n",
       "      <td>...</td>\n",
       "      <td>FRONT &amp; REAR</td>\n",
       "      <td>LEFT SIDE</td>\n",
       "      <td>NO</td>\n",
       "      <td>NO</td>\n",
       "      <td>ACTUAL</td>\n",
       "      <td>Gasoline</td>\n",
       "      <td>6 Cyl</td>\n",
       "      <td>Automatic</td>\n",
       "      <td>Hanover Insurance</td>\n",
       "      <td>NaN</td>\n",
       "    </tr>\n",
       "  </tbody>\n",
       "</table>\n",
       "<p>5 rows × 23 columns</p>\n",
       "</div>"
      ],
      "text/plain": [
       "     Stock#  Lane Item#  Year     Make        Model Odometer  \\\n",
       "0  25239190   NaN  #TBD  2005    ACURA          MDX  142,876   \n",
       "1  25162867   NaN  #TBD  2011     AUDI           Q5   79,500   \n",
       "2  25397273   NaN  #TBD  2005  BENTLEY  CONTINENTAL   71,045   \n",
       "3  25112456   NaN  #TBD  2013      BMW          328  111,025   \n",
       "4  25102838   NaN  #TBD  2004      BMW          330  151,574   \n",
       "\n",
       "                 VIN           Sale Document  Loss Type      ...       \\\n",
       "0  2HNYD18945H533515  SALVAGE CERTIFICATE-CA  COLLISION      ...        \n",
       "1  WA1WKAFP4BA058134     PREVIOUS SALVAGE-MI      WATER      ...        \n",
       "2  SCBCR63W25C028848                CLEAR-FL      OTHER      ...        \n",
       "3  WBA3B3C58DF536341                CLEAR-MI  COLLISION      ...        \n",
       "4  WBAEW53444PN35780                CLEAR-MI  COLLISION      ...        \n",
       "\n",
       "   Primary Damage Secondary Damage Run & Drive Starts Odometer Status  \\\n",
       "0       FRONT END     LEFT & RIGHT          NO     NO          ACTUAL   \n",
       "1           FLOOD     FRONT & REAR          NO     NO          ACTUAL   \n",
       "2            NONE          UNKNOWN         YES    YES          ACTUAL   \n",
       "3      RIGHT SIDE     FRONT & REAR         YES    YES          ACTUAL   \n",
       "4    FRONT & REAR        LEFT SIDE          NO     NO          ACTUAL   \n",
       "\n",
       "  Fuel Type Cylinders Transmission                        Provider  \\\n",
       "0  Gasoline     6 Cyl    Automatic               Mercury Insurance   \n",
       "1  Gasoline     6 Cyl    Automatic  Progressive Casualty Insurance   \n",
       "2  Gasoline    12 Cyl    Automatic                             NaN   \n",
       "3  Gasoline     4 Cyl    Automatic  Progressive Casualty Insurance   \n",
       "4  Gasoline     6 Cyl    Automatic               Hanover Insurance   \n",
       "\n",
       "  Buy Now Price  \n",
       "0       $675.00  \n",
       "1     $5,700.00  \n",
       "2    $26,000.00  \n",
       "3           NaN  \n",
       "4           NaN  \n",
       "\n",
       "[5 rows x 23 columns]"
      ]
     },
     "execution_count": 45,
     "metadata": {},
     "output_type": "execute_result"
    }
   ],
   "source": [
    "#Reding the data\n",
    "automobile = pd.read_csv(r'BranchSalesListItems_07082019.csv')\n",
    "automobile.head()"
   ]
  },
  {
   "cell_type": "code",
   "execution_count": null,
   "metadata": {},
   "outputs": [],
   "source": []
  },
  {
   "cell_type": "code",
   "execution_count": 46,
   "metadata": {},
   "outputs": [
    {
     "data": {
      "text/html": [
       "<div>\n",
       "<style scoped>\n",
       "    .dataframe tbody tr th:only-of-type {\n",
       "        vertical-align: middle;\n",
       "    }\n",
       "\n",
       "    .dataframe tbody tr th {\n",
       "        vertical-align: top;\n",
       "    }\n",
       "\n",
       "    .dataframe thead th {\n",
       "        text-align: right;\n",
       "    }\n",
       "</style>\n",
       "<table border=\"1\" class=\"dataframe\">\n",
       "  <thead>\n",
       "    <tr style=\"text-align: right;\">\n",
       "      <th></th>\n",
       "      <th>Stock#</th>\n",
       "      <th>Year</th>\n",
       "      <th>Make</th>\n",
       "      <th>Model</th>\n",
       "      <th>Odometer</th>\n",
       "      <th>VIN</th>\n",
       "      <th>Sale Document</th>\n",
       "      <th>Loss Type</th>\n",
       "      <th>Primary Damage</th>\n",
       "      <th>Secondary Damage</th>\n",
       "      <th>Run &amp; Drive</th>\n",
       "      <th>Starts</th>\n",
       "      <th>Odometer Status</th>\n",
       "      <th>Transmission</th>\n",
       "      <th>Provider</th>\n",
       "    </tr>\n",
       "  </thead>\n",
       "  <tbody>\n",
       "    <tr>\n",
       "      <th>0</th>\n",
       "      <td>25239190</td>\n",
       "      <td>2005</td>\n",
       "      <td>ACURA</td>\n",
       "      <td>MDX</td>\n",
       "      <td>142,876</td>\n",
       "      <td>2HNYD18945H533515</td>\n",
       "      <td>SALVAGE CERTIFICATE-CA</td>\n",
       "      <td>COLLISION</td>\n",
       "      <td>FRONT END</td>\n",
       "      <td>LEFT &amp; RIGHT</td>\n",
       "      <td>NO</td>\n",
       "      <td>NO</td>\n",
       "      <td>ACTUAL</td>\n",
       "      <td>Automatic</td>\n",
       "      <td>Mercury Insurance</td>\n",
       "    </tr>\n",
       "    <tr>\n",
       "      <th>1</th>\n",
       "      <td>25162867</td>\n",
       "      <td>2011</td>\n",
       "      <td>AUDI</td>\n",
       "      <td>Q5</td>\n",
       "      <td>79,500</td>\n",
       "      <td>WA1WKAFP4BA058134</td>\n",
       "      <td>PREVIOUS SALVAGE-MI</td>\n",
       "      <td>WATER</td>\n",
       "      <td>FLOOD</td>\n",
       "      <td>FRONT &amp; REAR</td>\n",
       "      <td>NO</td>\n",
       "      <td>NO</td>\n",
       "      <td>ACTUAL</td>\n",
       "      <td>Automatic</td>\n",
       "      <td>Progressive Casualty Insurance</td>\n",
       "    </tr>\n",
       "    <tr>\n",
       "      <th>2</th>\n",
       "      <td>25397273</td>\n",
       "      <td>2005</td>\n",
       "      <td>BENTLEY</td>\n",
       "      <td>CONTINENTAL</td>\n",
       "      <td>71,045</td>\n",
       "      <td>SCBCR63W25C028848</td>\n",
       "      <td>CLEAR-FL</td>\n",
       "      <td>OTHER</td>\n",
       "      <td>NONE</td>\n",
       "      <td>UNKNOWN</td>\n",
       "      <td>YES</td>\n",
       "      <td>YES</td>\n",
       "      <td>ACTUAL</td>\n",
       "      <td>Automatic</td>\n",
       "      <td>NaN</td>\n",
       "    </tr>\n",
       "    <tr>\n",
       "      <th>3</th>\n",
       "      <td>25112456</td>\n",
       "      <td>2013</td>\n",
       "      <td>BMW</td>\n",
       "      <td>328</td>\n",
       "      <td>111,025</td>\n",
       "      <td>WBA3B3C58DF536341</td>\n",
       "      <td>CLEAR-MI</td>\n",
       "      <td>COLLISION</td>\n",
       "      <td>RIGHT SIDE</td>\n",
       "      <td>FRONT &amp; REAR</td>\n",
       "      <td>YES</td>\n",
       "      <td>YES</td>\n",
       "      <td>ACTUAL</td>\n",
       "      <td>Automatic</td>\n",
       "      <td>Progressive Casualty Insurance</td>\n",
       "    </tr>\n",
       "    <tr>\n",
       "      <th>4</th>\n",
       "      <td>25102838</td>\n",
       "      <td>2004</td>\n",
       "      <td>BMW</td>\n",
       "      <td>330</td>\n",
       "      <td>151,574</td>\n",
       "      <td>WBAEW53444PN35780</td>\n",
       "      <td>CLEAR-MI</td>\n",
       "      <td>COLLISION</td>\n",
       "      <td>FRONT &amp; REAR</td>\n",
       "      <td>LEFT SIDE</td>\n",
       "      <td>NO</td>\n",
       "      <td>NO</td>\n",
       "      <td>ACTUAL</td>\n",
       "      <td>Automatic</td>\n",
       "      <td>Hanover Insurance</td>\n",
       "    </tr>\n",
       "  </tbody>\n",
       "</table>\n",
       "</div>"
      ],
      "text/plain": [
       "     Stock#  Year     Make        Model Odometer                VIN  \\\n",
       "0  25239190  2005    ACURA          MDX  142,876  2HNYD18945H533515   \n",
       "1  25162867  2011     AUDI           Q5   79,500  WA1WKAFP4BA058134   \n",
       "2  25397273  2005  BENTLEY  CONTINENTAL   71,045  SCBCR63W25C028848   \n",
       "3  25112456  2013      BMW          328  111,025  WBA3B3C58DF536341   \n",
       "4  25102838  2004      BMW          330  151,574  WBAEW53444PN35780   \n",
       "\n",
       "            Sale Document  Loss Type Primary Damage Secondary Damage  \\\n",
       "0  SALVAGE CERTIFICATE-CA  COLLISION      FRONT END     LEFT & RIGHT   \n",
       "1     PREVIOUS SALVAGE-MI      WATER          FLOOD     FRONT & REAR   \n",
       "2                CLEAR-FL      OTHER           NONE          UNKNOWN   \n",
       "3                CLEAR-MI  COLLISION     RIGHT SIDE     FRONT & REAR   \n",
       "4                CLEAR-MI  COLLISION   FRONT & REAR        LEFT SIDE   \n",
       "\n",
       "  Run & Drive Starts Odometer Status Transmission  \\\n",
       "0          NO     NO          ACTUAL    Automatic   \n",
       "1          NO     NO          ACTUAL    Automatic   \n",
       "2         YES    YES          ACTUAL    Automatic   \n",
       "3         YES    YES          ACTUAL    Automatic   \n",
       "4          NO     NO          ACTUAL    Automatic   \n",
       "\n",
       "                         Provider  \n",
       "0               Mercury Insurance  \n",
       "1  Progressive Casualty Insurance  \n",
       "2                             NaN  \n",
       "3  Progressive Casualty Insurance  \n",
       "4               Hanover Insurance  "
      ]
     },
     "execution_count": 46,
     "metadata": {},
     "output_type": "execute_result"
    }
   ],
   "source": [
    "#removing unneccessary coloumns and rows with null value\n",
    "automobile.drop(['Item#','Cylinders','Fuel Type','Public','Lane', 'Vehicle Location Info','Auction Date','Buy Now Price'],axis=1 , inplace=True)\n",
    "\n",
    "automobile.head()"
   ]
  },
  {
   "cell_type": "code",
   "execution_count": 47,
   "metadata": {},
   "outputs": [
    {
     "data": {
      "text/plain": [
       "589"
      ]
     },
     "execution_count": 47,
     "metadata": {},
     "output_type": "execute_result"
    }
   ],
   "source": [
    "len(automobile)"
   ]
  },
  {
   "cell_type": "code",
   "execution_count": 48,
   "metadata": {},
   "outputs": [],
   "source": [
    "automobile.Odometer=automobile.Odometer.fillna(0)\n",
    "# automobile.isnull().sum()\n",
    "#automobile.Odometer.value_counts(ascending=True)"
   ]
  },
  {
   "cell_type": "code",
   "execution_count": 49,
   "metadata": {},
   "outputs": [],
   "source": [
    "automobile.insert(4, \"segment\",  True) "
   ]
  },
  {
   "cell_type": "code",
   "execution_count": 50,
   "metadata": {},
   "outputs": [],
   "source": [
    "#classified cars in 4 segments \n",
    "def Classifysegment(make):\n",
    " \n",
    "    Midlevel = ['Alfa Romeo', 'RAM','Chrysler', 'Infiniti', 'MINI', 'Volkswagen' , 'JEEP','CADILLAC','LINCOLN']\n",
    "    Economy = ['TOYOTA' , 'HONDA','MAZDA' , 'CHEVROLET' , 'MERCURY','BUICK','SUBARU','VOLVO' ,'GMC','DODGE','KIA','Saab', 'PONTIAC' , 'NISSAN' ,'JEEP']\n",
    "    Luxury=['BMW','LEXSUS', 'MERCEDES-BENZ','LEXUS','PORSCHE','JAGUAR']\n",
    "    SUPERLUXURY=['BENTLEY' , 'MASARATI']\n",
    "    if make in Midlevel:\n",
    "        return 'Midlevel'\n",
    "    elif make in Economy:\n",
    "        return 'Economy'\n",
    "automobile['segment'] = [Classifysegment(make) for make in automobile.Make ]#list comprehension\n",
    "#Rename Some column of dataset\n",
    "automobile=automobile.rename(columns = {'Run & Drive':'Run'})"
   ]
  },
  {
   "cell_type": "code",
   "execution_count": null,
   "metadata": {},
   "outputs": [],
   "source": []
  },
  {
   "cell_type": "code",
   "execution_count": null,
   "metadata": {},
   "outputs": [],
   "source": []
  },
  {
   "cell_type": "code",
   "execution_count": 51,
   "metadata": {},
   "outputs": [
    {
     "data": {
      "text/plain": [
       "Text(0.5, 0, 'Make')"
      ]
     },
     "execution_count": 51,
     "metadata": {},
     "output_type": "execute_result"
    },
    {
     "data": {
      "image/png": "[encoded data removed]",
      "text/plain": [
       "<Figure size 1080x360 with 1 Axes>"
      ]
     },
     "metadata": {
      "needs_background": "light"
     },
     "output_type": "display_data"
    }
   ],
   "source": [
    "#Vehicle make frequency BAr chart\n",
    "import matplotlib.pyplot as plt\n",
    "%matplotlib inline\n",
    "automobile.Make.value_counts().nlargest(10).plot(kind='bar', figsize=(15,5))\n",
    "plt.title(\"Number of vehicles by make\")\n",
    "plt.ylabel('Number of vehicles')\n",
    "plt.xlabel('Make')"
   ]
  },
  {
   "cell_type": "code",
   "execution_count": 52,
   "metadata": {},
   "outputs": [
    {
     "name": "stderr",
     "output_type": "stream",
     "text": [
      "/Users/hamidgholizadegan/anaconda3/lib/python3.7/site-packages/pandas/core/frame.py:3697: SettingWithCopyWarning: \n",
      "A value is trying to be set on a copy of a slice from a DataFrame\n",
      "\n",
      "See the caveats in the documentation: http://pandas.pydata.org/pandas-docs/stable/indexing.html#indexing-view-versus-copy\n",
      "  errors=errors)\n",
      "/Users/hamidgholizadegan/anaconda3/lib/python3.7/site-packages/pandas/core/indexing.py:543: SettingWithCopyWarning: \n",
      "A value is trying to be set on a copy of a slice from a DataFrame.\n",
      "Try using .loc[row_indexer,col_indexer] = value instead\n",
      "\n",
      "See the caveats in the documentation: http://pandas.pydata.org/pandas-docs/stable/indexing.html#indexing-view-versus-copy\n",
      "  self.obj[item] = s\n"
     ]
    },
    {
     "data": {
      "text/html": [
       "<div>\n",
       "<style scoped>\n",
       "    .dataframe tbody tr th:only-of-type {\n",
       "        vertical-align: middle;\n",
       "    }\n",
       "\n",
       "    .dataframe tbody tr th {\n",
       "        vertical-align: top;\n",
       "    }\n",
       "\n",
       "    .dataframe thead th {\n",
       "        text-align: right;\n",
       "    }\n",
       "</style>\n",
       "<table border=\"1\" class=\"dataframe\">\n",
       "  <thead>\n",
       "    <tr style=\"text-align: right;\">\n",
       "      <th></th>\n",
       "      <th>Stock#</th>\n",
       "      <th>Year</th>\n",
       "      <th>Make</th>\n",
       "      <th>Model</th>\n",
       "      <th>Odometer</th>\n",
       "      <th>$BidSalesPrices</th>\n",
       "      <th>PrimaryDamage</th>\n",
       "      <th>SecondaryDamage</th>\n",
       "    </tr>\n",
       "  </thead>\n",
       "  <tbody>\n",
       "    <tr>\n",
       "      <th>92</th>\n",
       "      <td>25294725</td>\n",
       "      <td>2010</td>\n",
       "      <td>CHEVROLET</td>\n",
       "      <td>HHR</td>\n",
       "      <td>88069</td>\n",
       "      <td>1050</td>\n",
       "      <td>FRONT END</td>\n",
       "      <td>LEFT &amp; RIGHT</td>\n",
       "    </tr>\n",
       "    <tr>\n",
       "      <th>102</th>\n",
       "      <td>24790296</td>\n",
       "      <td>2009</td>\n",
       "      <td>CHEVROLET</td>\n",
       "      <td>IMPALA</td>\n",
       "      <td>132063</td>\n",
       "      <td>1600</td>\n",
       "      <td>LEFT SIDE</td>\n",
       "      <td>REAR</td>\n",
       "    </tr>\n",
       "    <tr>\n",
       "      <th>210</th>\n",
       "      <td>24883315</td>\n",
       "      <td>2009</td>\n",
       "      <td>DODGE</td>\n",
       "      <td>RAM 1500</td>\n",
       "      <td>129447</td>\n",
       "      <td>7000</td>\n",
       "      <td>LEFT &amp; RIGHT</td>\n",
       "      <td>NaN</td>\n",
       "    </tr>\n",
       "    <tr>\n",
       "      <th>355</th>\n",
       "      <td>25273689</td>\n",
       "      <td>2011</td>\n",
       "      <td>HONDA</td>\n",
       "      <td>ACCORD</td>\n",
       "      <td>98029</td>\n",
       "      <td>1500</td>\n",
       "      <td>FRONT &amp; REAR</td>\n",
       "      <td>LEFT SIDE</td>\n",
       "    </tr>\n",
       "    <tr>\n",
       "      <th>356</th>\n",
       "      <td>25175362</td>\n",
       "      <td>2008</td>\n",
       "      <td>HONDA</td>\n",
       "      <td>ACCORD</td>\n",
       "      <td>150787</td>\n",
       "      <td>975</td>\n",
       "      <td>FRONT END</td>\n",
       "      <td>NaN</td>\n",
       "    </tr>\n",
       "  </tbody>\n",
       "</table>\n",
       "</div>"
      ],
      "text/plain": [
       "       Stock#  Year       Make     Model  Odometer  $BidSalesPrices  \\\n",
       "92   25294725  2010  CHEVROLET       HHR     88069             1050   \n",
       "102  24790296  2009  CHEVROLET    IMPALA    132063             1600   \n",
       "210  24883315  2009      DODGE  RAM 1500    129447             7000   \n",
       "355  25273689  2011      HONDA    ACCORD     98029             1500   \n",
       "356  25175362  2008      HONDA    ACCORD    150787              975   \n",
       "\n",
       "    PrimaryDamage SecondaryDamage  \n",
       "92      FRONT END    LEFT & RIGHT  \n",
       "102     LEFT SIDE            REAR  \n",
       "210  LEFT & RIGHT             NaN  \n",
       "355  FRONT & REAR       LEFT SIDE  \n",
       "356     FRONT END             NaN  "
      ]
     },
     "execution_count": 52,
     "metadata": {},
     "output_type": "execute_result"
    }
   ],
   "source": [
    "#conver Milage DataType from string to Intiger\n",
    "automobile.Odometer=automobile.Odometer.astype(str).str.replace(\",\", \"\").astype(int)\n",
    "\n",
    "#filtering cars for sales in the auction to those with these condition . IN my experince these cars can be sell in tax season\n",
    "#with highest profit with less amount of time\n",
    "\n",
    "automobile=automobile.rename(columns = {'Sale Document':'SaleDoc','Primary Damage':'PrimaryDamage','Secondary Damage':'SecondaryDamage'})\n",
    "\n",
    "#filtering cars with the condition that with my experince I can sell buy and repire them less than $3000 and make $1000 profit\n",
    "df_filtered =automobile[(automobile.Odometer<= 160000 )&( automobile.Odometer > 80000 ) & (automobile.Starts == \"YES\") & (automobile.Run == \"YES\")\n",
    "                        & (automobile.segment == \"Economy\") & (automobile.Year<= 2011 ) & (automobile.Year>= 2005 )\n",
    "                       & (automobile.SaleDoc.str.contains('CLEAR')) & (pd.notnull(automobile['Provider']))  & (automobile.PrimaryDamage !=\"LEFT REAR\") ] \n",
    "#df_filtered.dropna()\n",
    "df_filtered.drop(['segment','Starts','Run','Odometer Status', 'Transmission','SaleDoc' ,'VIN','Loss Type' ,'Provider'],axis=1 , inplace=True)\n",
    "df_filtered.insert(5, \"$BidSalesPrices\",0)\n",
    "#adding the price of car that sld in auction at bid price \n",
    "#* notice that some the sale are in pending and on call to ask seller if they want to sell it at that price or not\n",
    "df_filtered.loc[:, \"$BidSalesPrices\"] = [ 1050, 1600,7000, 1500, 975, 1700, 1250, 3450,1100,1000,1850]\n",
    "#join the model and year of car models because modeles for each brands are unique\n",
    "df_filtered.head()\n"
   ]
  },
  {
   "cell_type": "code",
   "execution_count": 53,
   "metadata": {},
   "outputs": [
    {
     "name": "stderr",
     "output_type": "stream",
     "text": [
      "/Users/hamidgholizadegan/anaconda3/lib/python3.7/site-packages/pandas/core/generic.py:4405: SettingWithCopyWarning: \n",
      "A value is trying to be set on a copy of a slice from a DataFrame.\n",
      "Try using .loc[row_indexer,col_indexer] = value instead\n",
      "\n",
      "See the caveats in the documentation: http://pandas.pydata.org/pandas-docs/stable/indexing.html#indexing-view-versus-copy\n",
      "  self[name] = value\n"
     ]
    },
    {
     "data": {
      "text/html": [
       "<div>\n",
       "<style scoped>\n",
       "    .dataframe tbody tr th:only-of-type {\n",
       "        vertical-align: middle;\n",
       "    }\n",
       "\n",
       "    .dataframe tbody tr th {\n",
       "        vertical-align: top;\n",
       "    }\n",
       "\n",
       "    .dataframe thead th {\n",
       "        text-align: right;\n",
       "    }\n",
       "</style>\n",
       "<table border=\"1\" class=\"dataframe\">\n",
       "  <thead>\n",
       "    <tr style=\"text-align: right;\">\n",
       "      <th></th>\n",
       "      <th>Stock#</th>\n",
       "      <th>Year</th>\n",
       "      <th>Make</th>\n",
       "      <th>Model</th>\n",
       "      <th>Odometer</th>\n",
       "      <th>$BidSalesPrices</th>\n",
       "      <th>PrimaryDamage</th>\n",
       "      <th>SecondaryDamage</th>\n",
       "    </tr>\n",
       "  </thead>\n",
       "  <tbody>\n",
       "    <tr>\n",
       "      <th>92</th>\n",
       "      <td>25294725</td>\n",
       "      <td>2010</td>\n",
       "      <td>CHEVROLET</td>\n",
       "      <td>HHR</td>\n",
       "      <td>88069</td>\n",
       "      <td>1050</td>\n",
       "      <td>1.0</td>\n",
       "      <td>5.0</td>\n",
       "    </tr>\n",
       "    <tr>\n",
       "      <th>102</th>\n",
       "      <td>24790296</td>\n",
       "      <td>2009</td>\n",
       "      <td>CHEVROLET</td>\n",
       "      <td>IMPALA</td>\n",
       "      <td>132063</td>\n",
       "      <td>1600</td>\n",
       "      <td>3.0</td>\n",
       "      <td>2.0</td>\n",
       "    </tr>\n",
       "    <tr>\n",
       "      <th>210</th>\n",
       "      <td>24883315</td>\n",
       "      <td>2009</td>\n",
       "      <td>DODGE</td>\n",
       "      <td>RAM 1500</td>\n",
       "      <td>129447</td>\n",
       "      <td>7000</td>\n",
       "      <td>5.0</td>\n",
       "      <td>0.0</td>\n",
       "    </tr>\n",
       "    <tr>\n",
       "      <th>355</th>\n",
       "      <td>25273689</td>\n",
       "      <td>2011</td>\n",
       "      <td>HONDA</td>\n",
       "      <td>ACCORD</td>\n",
       "      <td>98029</td>\n",
       "      <td>1500</td>\n",
       "      <td>4.0</td>\n",
       "      <td>3.0</td>\n",
       "    </tr>\n",
       "    <tr>\n",
       "      <th>356</th>\n",
       "      <td>25175362</td>\n",
       "      <td>2008</td>\n",
       "      <td>HONDA</td>\n",
       "      <td>ACCORD</td>\n",
       "      <td>150787</td>\n",
       "      <td>975</td>\n",
       "      <td>1.0</td>\n",
       "      <td>0.0</td>\n",
       "    </tr>\n",
       "  </tbody>\n",
       "</table>\n",
       "</div>"
      ],
      "text/plain": [
       "       Stock#  Year       Make     Model  Odometer  $BidSalesPrices  \\\n",
       "92   25294725  2010  CHEVROLET       HHR     88069             1050   \n",
       "102  24790296  2009  CHEVROLET    IMPALA    132063             1600   \n",
       "210  24883315  2009      DODGE  RAM 1500    129447             7000   \n",
       "355  25273689  2011      HONDA    ACCORD     98029             1500   \n",
       "356  25175362  2008      HONDA    ACCORD    150787              975   \n",
       "\n",
       "     PrimaryDamage  SecondaryDamage  \n",
       "92             1.0              5.0  \n",
       "102            3.0              2.0  \n",
       "210            5.0              0.0  \n",
       "355            4.0              3.0  \n",
       "356            1.0              0.0  "
      ]
     },
     "execution_count": 53,
     "metadata": {},
     "output_type": "execute_result"
    }
   ],
   "source": [
    "\n",
    "\n",
    "#creating dictionary fro dameges of the cars\n",
    "df_filtered.SecondaryDamage = df_filtered.SecondaryDamage.replace(np.nan, 'nothing')\n",
    "PrimaryDamage = {'FRONT END': 1.0,'LEFT SIDE': 3.0,'FRONT & REAR':4.0 ,'LEFT & RIGHT':5.0}\n",
    "SecondaryDamage = {'REAR': 2,'RIGHT FRONT': 2.5,'LEFT SIDE':3,'FRONT & REAR':4 ,'LEFT & RIGHT':5 ,'nothing':0}\n",
    "df_filtered.loc[:, \"PrimaryDamage\"] = [PrimaryDamage[item] for item in df_filtered.PrimaryDamage]\n",
    "df_filtered.loc[:, \"SecondaryDamage\"] = [SecondaryDamage[item] for item in df_filtered.SecondaryDamage]\n",
    "\n",
    "\n",
    "df_filtered.head()\n",
    "#automobile.Odometer = ''.join(ch for ch in automobile.Odometer if ch.isdigit())\n",
    "#automobile[\"Odometer\"] = automobile.Odometer.astype(float)"
   ]
  },
  {
   "cell_type": "code",
   "execution_count": 55,
   "metadata": {},
   "outputs": [
    {
     "data": {
      "image/png": "[encoded data removed]",
      "text/plain": [
       "<Figure size 1152x432 with 1 Axes>"
      ]
     },
     "metadata": {
      "needs_background": "light"
     },
     "output_type": "display_data"
    }
   ],
   "source": [
    "# Getting the traget cars in aution  and plotting it\n",
    " \n",
    "plt.figure(figsize=(16,6))\n",
    "f1 = [''.join(i) for i in zip(df_filtered[\"Year\"].map(str),df_filtered[\"Model\"])]\n",
    "f2 = df_filtered['$BidSalesPrices'].values\n",
    "X = np.array(list(zip(f1, f2)))\n",
    "plt.scatter(f1,f2,s=50,c='black')\n",
    "plt.ylabel(\"year Model of car sold in auction\")\n",
    "plt.xlabel(\"sales price of targeted car\")\n",
    "plt.show()"
   ]
  },
  {
   "cell_type": "code",
   "execution_count": 56,
   "metadata": {},
   "outputs": [
    {
     "ename": "ValueError",
     "evalue": "could not convert string to float: 'CIVIC'",
     "output_type": "error",
     "traceback": [
      "\u001b[0;31m---------------------------------------------------------------------------\u001b[0m",
      "\u001b[0;31mValueError\u001b[0m                                Traceback (most recent call last)",
      "\u001b[0;32m<ipython-input-56-870896fc3e27>\u001b[0m in \u001b[0;36m<module>\u001b[0;34m\u001b[0m\n\u001b[1;32m      7\u001b[0m \u001b[0;34m\u001b[0m\u001b[0m\n\u001b[1;32m      8\u001b[0m \u001b[0;31m#train the algorithm on training data and predict using the testing data\u001b[0m\u001b[0;34m\u001b[0m\u001b[0;34m\u001b[0m\u001b[0;34m\u001b[0m\u001b[0m\n\u001b[0;32m----> 9\u001b[0;31m \u001b[0mpred\u001b[0m \u001b[0;34m=\u001b[0m \u001b[0msvc_model\u001b[0m\u001b[0;34m.\u001b[0m\u001b[0mfit\u001b[0m\u001b[0;34m(\u001b[0m\u001b[0mdf_filtered\u001b[0m\u001b[0;34m[\u001b[0m\u001b[0;34m:\u001b[0m\u001b[0;36m6\u001b[0m\u001b[0;34m]\u001b[0m\u001b[0;34m,\u001b[0m \u001b[0mdf_filtered\u001b[0m\u001b[0;34m[\u001b[0m\u001b[0;34m'$BidSalesPrices'\u001b[0m\u001b[0;34m]\u001b[0m\u001b[0;34m)\u001b[0m\u001b[0;34m.\u001b[0m\u001b[0mpredict\u001b[0m\u001b[0;34m(\u001b[0m\u001b[0mdf_filtered\u001b[0m\u001b[0;34m[\u001b[0m\u001b[0;36m6\u001b[0m\u001b[0;34m:\u001b[0m\u001b[0;34m]\u001b[0m\u001b[0;34m)\u001b[0m\u001b[0;34m\u001b[0m\u001b[0;34m\u001b[0m\u001b[0m\n\u001b[0m\u001b[1;32m     10\u001b[0m \u001b[0;34m\u001b[0m\u001b[0m\n\u001b[1;32m     11\u001b[0m \u001b[0;31m#print the accuracy score of the model\u001b[0m\u001b[0;34m\u001b[0m\u001b[0;34m\u001b[0m\u001b[0;34m\u001b[0m\u001b[0m\n",
      "\u001b[0;32m~/anaconda3/lib/python3.7/site-packages/sklearn/svm/classes.py\u001b[0m in \u001b[0;36mfit\u001b[0;34m(self, X, y, sample_weight)\u001b[0m\n\u001b[1;32m    227\u001b[0m         X, y = check_X_y(X, y, accept_sparse='csr',\n\u001b[1;32m    228\u001b[0m                          \u001b[0mdtype\u001b[0m\u001b[0;34m=\u001b[0m\u001b[0mnp\u001b[0m\u001b[0;34m.\u001b[0m\u001b[0mfloat64\u001b[0m\u001b[0;34m,\u001b[0m \u001b[0morder\u001b[0m\u001b[0;34m=\u001b[0m\u001b[0;34m\"C\"\u001b[0m\u001b[0;34m,\u001b[0m\u001b[0;34m\u001b[0m\u001b[0;34m\u001b[0m\u001b[0m\n\u001b[0;32m--> 229\u001b[0;31m                          accept_large_sparse=False)\n\u001b[0m\u001b[1;32m    230\u001b[0m         \u001b[0mcheck_classification_targets\u001b[0m\u001b[0;34m(\u001b[0m\u001b[0my\u001b[0m\u001b[0;34m)\u001b[0m\u001b[0;34m\u001b[0m\u001b[0;34m\u001b[0m\u001b[0m\n\u001b[1;32m    231\u001b[0m         \u001b[0mself\u001b[0m\u001b[0;34m.\u001b[0m\u001b[0mclasses_\u001b[0m \u001b[0;34m=\u001b[0m \u001b[0mnp\u001b[0m\u001b[0;34m.\u001b[0m\u001b[0munique\u001b[0m\u001b[0;34m(\u001b[0m\u001b[0my\u001b[0m\u001b[0;34m)\u001b[0m\u001b[0;34m\u001b[0m\u001b[0;34m\u001b[0m\u001b[0m\n",
      "\u001b[0;32m~/anaconda3/lib/python3.7/site-packages/sklearn/utils/validation.py\u001b[0m in \u001b[0;36mcheck_X_y\u001b[0;34m(X, y, accept_sparse, accept_large_sparse, dtype, order, copy, force_all_finite, ensure_2d, allow_nd, multi_output, ensure_min_samples, ensure_min_features, y_numeric, warn_on_dtype, estimator)\u001b[0m\n\u001b[1;32m    754\u001b[0m                     \u001b[0mensure_min_features\u001b[0m\u001b[0;34m=\u001b[0m\u001b[0mensure_min_features\u001b[0m\u001b[0;34m,\u001b[0m\u001b[0;34m\u001b[0m\u001b[0;34m\u001b[0m\u001b[0m\n\u001b[1;32m    755\u001b[0m                     \u001b[0mwarn_on_dtype\u001b[0m\u001b[0;34m=\u001b[0m\u001b[0mwarn_on_dtype\u001b[0m\u001b[0;34m,\u001b[0m\u001b[0;34m\u001b[0m\u001b[0;34m\u001b[0m\u001b[0m\n\u001b[0;32m--> 756\u001b[0;31m                     estimator=estimator)\n\u001b[0m\u001b[1;32m    757\u001b[0m     \u001b[0;32mif\u001b[0m \u001b[0mmulti_output\u001b[0m\u001b[0;34m:\u001b[0m\u001b[0;34m\u001b[0m\u001b[0;34m\u001b[0m\u001b[0m\n\u001b[1;32m    758\u001b[0m         y = check_array(y, 'csr', force_all_finite=True, ensure_2d=False,\n",
      "\u001b[0;32m~/anaconda3/lib/python3.7/site-packages/sklearn/utils/validation.py\u001b[0m in \u001b[0;36mcheck_array\u001b[0;34m(array, accept_sparse, accept_large_sparse, dtype, order, copy, force_all_finite, ensure_2d, allow_nd, ensure_min_samples, ensure_min_features, warn_on_dtype, estimator)\u001b[0m\n\u001b[1;32m    525\u001b[0m             \u001b[0;32mtry\u001b[0m\u001b[0;34m:\u001b[0m\u001b[0;34m\u001b[0m\u001b[0;34m\u001b[0m\u001b[0m\n\u001b[1;32m    526\u001b[0m                 \u001b[0mwarnings\u001b[0m\u001b[0;34m.\u001b[0m\u001b[0msimplefilter\u001b[0m\u001b[0;34m(\u001b[0m\u001b[0;34m'error'\u001b[0m\u001b[0;34m,\u001b[0m \u001b[0mComplexWarning\u001b[0m\u001b[0;34m)\u001b[0m\u001b[0;34m\u001b[0m\u001b[0;34m\u001b[0m\u001b[0m\n\u001b[0;32m--> 527\u001b[0;31m                 \u001b[0marray\u001b[0m \u001b[0;34m=\u001b[0m \u001b[0mnp\u001b[0m\u001b[0;34m.\u001b[0m\u001b[0masarray\u001b[0m\u001b[0;34m(\u001b[0m\u001b[0marray\u001b[0m\u001b[0;34m,\u001b[0m \u001b[0mdtype\u001b[0m\u001b[0;34m=\u001b[0m\u001b[0mdtype\u001b[0m\u001b[0;34m,\u001b[0m \u001b[0morder\u001b[0m\u001b[0;34m=\u001b[0m\u001b[0morder\u001b[0m\u001b[0;34m)\u001b[0m\u001b[0;34m\u001b[0m\u001b[0;34m\u001b[0m\u001b[0m\n\u001b[0m\u001b[1;32m    528\u001b[0m             \u001b[0;32mexcept\u001b[0m \u001b[0mComplexWarning\u001b[0m\u001b[0;34m:\u001b[0m\u001b[0;34m\u001b[0m\u001b[0;34m\u001b[0m\u001b[0m\n\u001b[1;32m    529\u001b[0m                 raise ValueError(\"Complex data not supported\\n\"\n",
      "\u001b[0;32m~/anaconda3/lib/python3.7/site-packages/numpy/core/numeric.py\u001b[0m in \u001b[0;36masarray\u001b[0;34m(a, dtype, order)\u001b[0m\n\u001b[1;32m    499\u001b[0m \u001b[0;34m\u001b[0m\u001b[0m\n\u001b[1;32m    500\u001b[0m     \"\"\"\n\u001b[0;32m--> 501\u001b[0;31m     \u001b[0;32mreturn\u001b[0m \u001b[0marray\u001b[0m\u001b[0;34m(\u001b[0m\u001b[0ma\u001b[0m\u001b[0;34m,\u001b[0m \u001b[0mdtype\u001b[0m\u001b[0;34m,\u001b[0m \u001b[0mcopy\u001b[0m\u001b[0;34m=\u001b[0m\u001b[0;32mFalse\u001b[0m\u001b[0;34m,\u001b[0m \u001b[0morder\u001b[0m\u001b[0;34m=\u001b[0m\u001b[0morder\u001b[0m\u001b[0;34m)\u001b[0m\u001b[0;34m\u001b[0m\u001b[0;34m\u001b[0m\u001b[0m\n\u001b[0m\u001b[1;32m    502\u001b[0m \u001b[0;34m\u001b[0m\u001b[0m\n\u001b[1;32m    503\u001b[0m \u001b[0;34m\u001b[0m\u001b[0m\n",
      "\u001b[0;31mValueError\u001b[0m: could not convert string to float: 'CIVIC'"
     ]
    }
   ],
   "source": [
    "#import the necessary modules\n",
    "from sklearn.svm import LinearSVC\n",
    "from sklearn.metrics import accuracy_score\n",
    "\n",
    "#create an object of type LinearSVC\n",
    "svc_model = LinearSVC(random_state=0)\n",
    "\n",
    "#train the algorithm on training data and predict using the testing data\n",
    "pred = svc_model.fit(df_filtered[:6], df_filtered['$BidSalesPrices']).predict(df_filtered[6:])\n",
    "\n",
    "#print the accuracy score of the model\n",
    "print(\"LinearSVC accuracy : \",accuracy_score(target_test, pred, normalize = True))"
   ]
  },
  {
   "cell_type": "code",
   "execution_count": null,
   "metadata": {},
   "outputs": [],
   "source": []
  },
  {
   "cell_type": "code",
   "execution_count": null,
   "metadata": {},
   "outputs": [],
   "source": []
  },
  {
   "cell_type": "code",
   "execution_count": null,
   "metadata": {},
   "outputs": [],
   "source": []
  },
  {
   "cell_type": "code",
   "execution_count": null,
   "metadata": {},
   "outputs": [],
   "source": []
  },
  {
   "cell_type": "code",
   "execution_count": null,
   "metadata": {},
   "outputs": [],
   "source": []
  },
  {
   "cell_type": "code",
   "execution_count": null,
   "metadata": {},
   "outputs": [],
   "source": []
  },
  {
   "cell_type": "code",
   "execution_count": null,
   "metadata": {},
   "outputs": [],
   "source": []
  },
  {
   "cell_type": "code",
   "execution_count": null,
   "metadata": {},
   "outputs": [],
   "source": []
  },
  {
   "cell_type": "code",
   "execution_count": null,
   "metadata": {},
   "outputs": [],
   "source": []
  },
  {
   "cell_type": "code",
   "execution_count": null,
   "metadata": {},
   "outputs": [],
   "source": []
  },
  {
   "cell_type": "code",
   "execution_count": null,
   "metadata": {},
   "outputs": [],
   "source": []
  },
  {
   "cell_type": "code",
   "execution_count": null,
   "metadata": {},
   "outputs": [],
   "source": []
  },
  {
   "cell_type": "code",
   "execution_count": null,
   "metadata": {},
   "outputs": [],
   "source": []
  },
  {
   "cell_type": "code",
   "execution_count": null,
   "metadata": {},
   "outputs": [],
   "source": []
  },
  {
   "cell_type": "code",
   "execution_count": null,
   "metadata": {},
   "outputs": [],
   "source": []
  },
  {
   "cell_type": "code",
   "execution_count": null,
   "metadata": {},
   "outputs": [],
   "source": []
  },
  {
   "cell_type": "code",
   "execution_count": null,
   "metadata": {},
   "outputs": [],
   "source": []
  },
  {
   "cell_type": "code",
   "execution_count": null,
   "metadata": {},
   "outputs": [],
   "source": []
  },
  {
   "cell_type": "code",
   "execution_count": null,
   "metadata": {},
   "outputs": [],
   "source": []
  },
  {
   "cell_type": "code",
   "execution_count": null,
   "metadata": {},
   "outputs": [],
   "source": []
  },
  {
   "cell_type": "code",
   "execution_count": null,
   "metadata": {},
   "outputs": [],
   "source": []
  },
  {
   "cell_type": "code",
   "execution_count": null,
   "metadata": {},
   "outputs": [],
   "source": []
  },
  {
   "cell_type": "code",
   "execution_count": null,
   "metadata": {},
   "outputs": [],
   "source": []
  },
  {
   "cell_type": "code",
   "execution_count": null,
   "metadata": {},
   "outputs": [],
   "source": []
  },
  {
   "cell_type": "code",
   "execution_count": null,
   "metadata": {},
   "outputs": [],
   "source": []
  },
  {
   "cell_type": "code",
   "execution_count": null,
   "metadata": {},
   "outputs": [],
   "source": []
  },
  {
   "cell_type": "code",
   "execution_count": null,
   "metadata": {},
   "outputs": [],
   "source": []
  },
  {
   "cell_type": "code",
   "execution_count": null,
   "metadata": {},
   "outputs": [],
   "source": []
  },
  {
   "cell_type": "code",
   "execution_count": null,
   "metadata": {},
   "outputs": [],
   "source": []
  },
  {
   "cell_type": "code",
   "execution_count": null,
   "metadata": {},
   "outputs": [],
   "source": []
  },
  {
   "cell_type": "code",
   "execution_count": null,
   "metadata": {},
   "outputs": [],
   "source": []
  },
  {
   "cell_type": "code",
   "execution_count": null,
   "metadata": {},
   "outputs": [],
   "source": []
  },
  {
   "cell_type": "code",
   "execution_count": null,
   "metadata": {},
   "outputs": [],
   "source": []
  },
  {
   "cell_type": "code",
   "execution_count": null,
   "metadata": {},
   "outputs": [],
   "source": []
  },
  {
   "cell_type": "code",
   "execution_count": null,
   "metadata": {},
   "outputs": [],
   "source": []
  },
  {
   "cell_type": "code",
   "execution_count": null,
   "metadata": {},
   "outputs": [],
   "source": []
  },
  {
   "cell_type": "code",
   "execution_count": null,
   "metadata": {},
   "outputs": [],
   "source": []
  },
  {
   "cell_type": "code",
   "execution_count": null,
   "metadata": {},
   "outputs": [],
   "source": []
  },
  {
   "cell_type": "code",
   "execution_count": null,
   "metadata": {},
   "outputs": [],
   "source": []
  },
  {
   "cell_type": "code",
   "execution_count": null,
   "metadata": {},
   "outputs": [],
   "source": []
  },
  {
   "cell_type": "code",
   "execution_count": null,
   "metadata": {},
   "outputs": [],
   "source": []
  },
  {
   "cell_type": "code",
   "execution_count": null,
   "metadata": {},
   "outputs": [],
   "source": []
  },
  {
   "cell_type": "code",
   "execution_count": null,
   "metadata": {},
   "outputs": [],
   "source": []
  },
  {
   "cell_type": "code",
   "execution_count": null,
   "metadata": {},
   "outputs": [],
   "source": []
  },
  {
   "cell_type": "code",
   "execution_count": null,
   "metadata": {},
   "outputs": [],
   "source": []
  },
  {
   "cell_type": "code",
   "execution_count": null,
   "metadata": {},
   "outputs": [],
   "source": []
  },
  {
   "cell_type": "code",
   "execution_count": null,
   "metadata": {},
   "outputs": [],
   "source": []
  },
  {
   "cell_type": "code",
   "execution_count": null,
   "metadata": {},
   "outputs": [],
   "source": []
  },
  {
   "cell_type": "code",
   "execution_count": null,
   "metadata": {},
   "outputs": [],
   "source": []
  },
  {
   "cell_type": "code",
   "execution_count": null,
   "metadata": {},
   "outputs": [],
   "source": []
  },
  {
   "cell_type": "code",
   "execution_count": null,
   "metadata": {},
   "outputs": [],
   "source": []
  },
  {
   "cell_type": "code",
   "execution_count": null,
   "metadata": {},
   "outputs": [],
   "source": []
  },
  {
   "cell_type": "code",
   "execution_count": null,
   "metadata": {},
   "outputs": [],
   "source": []
  },
  {
   "cell_type": "code",
   "execution_count": null,
   "metadata": {},
   "outputs": [],
   "source": []
  }
 ],
 "metadata": {
  "kernelspec": {
   "display_name": "Python 3",
   "language": "python",
   "name": "python3"
  },
  "language_info": {
   "codemirror_mode": {
    "name": "ipython",
    "version": 3
   },
   "file_extension": ".py",
   "mimetype": "text/x-python",
   "name": "python",
   "nbconvert_exporter": "python",
   "pygments_lexer": "ipython3",
   "version": "3.7.1"
  }
 },
 "nbformat": 4,
 "nbformat_minor": 2
}
